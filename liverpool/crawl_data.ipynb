{
 "cells": [
  {
   "cell_type": "markdown",
   "metadata": {},
   "source": [
    "### Bắt đầu"
   ]
  },
  {
   "cell_type": "code",
   "execution_count": 1,
   "metadata": {
    "colab": {
     "base_uri": "https://localhost:8080/"
    },
    "executionInfo": {
     "elapsed": 17339,
     "status": "ok",
     "timestamp": 1700924242108,
     "user": {
      "displayName": "Thành Tuấn",
      "userId": "02935244803714561339"
     },
     "user_tz": -420
    },
    "id": "ffbHo6lPAIGJ",
    "outputId": "cb4e330e-82d2-4f61-cd53-ae80fb1ca1ea",
    "scrolled": true
   },
   "outputs": [
    {
     "name": "stdout",
     "output_type": "stream",
     "text": [
      "Requirement already satisfied: facebook_scraper in c:\\users\\admin\\anaconda3\\lib\\site-packages (0.2.59)\n",
      "Requirement already satisfied: pandas in c:\\users\\admin\\anaconda3\\lib\\site-packages (1.5.3)\n",
      "Requirement already satisfied: numpy in c:\\users\\admin\\anaconda3\\lib\\site-packages (1.24.3)\n",
      "Requirement already satisfied: dateparser<2.0.0,>=1.0.0 in c:\\users\\admin\\anaconda3\\lib\\site-packages (from facebook_scraper) (1.1.8)\n",
      "Requirement already satisfied: demjson3<4.0.0,>=3.0.5 in c:\\users\\admin\\anaconda3\\lib\\site-packages (from facebook_scraper) (3.0.6)\n",
      "Requirement already satisfied: requests-html<0.11.0,>=0.10.0 in c:\\users\\admin\\anaconda3\\lib\\site-packages (from facebook_scraper) (0.10.0)\n",
      "Requirement already satisfied: python-dateutil>=2.8.1 in c:\\users\\admin\\anaconda3\\lib\\site-packages (from pandas) (2.8.2)\n",
      "Requirement already satisfied: pytz>=2020.1 in c:\\users\\admin\\anaconda3\\lib\\site-packages (from pandas) (2022.7)\n",
      "Requirement already satisfied: regex!=2019.02.19,!=2021.8.27 in c:\\users\\admin\\anaconda3\\lib\\site-packages (from dateparser<2.0.0,>=1.0.0->facebook_scraper) (2022.7.9)\n",
      "Requirement already satisfied: tzlocal in c:\\users\\admin\\anaconda3\\lib\\site-packages (from dateparser<2.0.0,>=1.0.0->facebook_scraper) (5.2)\n",
      "Requirement already satisfied: six>=1.5 in c:\\users\\admin\\anaconda3\\lib\\site-packages (from python-dateutil>=2.8.1->pandas) (1.16.0)\n",
      "Requirement already satisfied: requests in c:\\users\\admin\\anaconda3\\lib\\site-packages (from requests-html<0.11.0,>=0.10.0->facebook_scraper) (2.31.0)\n",
      "Requirement already satisfied: pyquery in c:\\users\\admin\\anaconda3\\lib\\site-packages (from requests-html<0.11.0,>=0.10.0->facebook_scraper) (2.0.0)\n",
      "Requirement already satisfied: fake-useragent in c:\\users\\admin\\anaconda3\\lib\\site-packages (from requests-html<0.11.0,>=0.10.0->facebook_scraper) (1.3.0)\n",
      "Requirement already satisfied: parse in c:\\users\\admin\\anaconda3\\lib\\site-packages (from requests-html<0.11.0,>=0.10.0->facebook_scraper) (1.19.1)\n",
      "Requirement already satisfied: bs4 in c:\\users\\admin\\anaconda3\\lib\\site-packages (from requests-html<0.11.0,>=0.10.0->facebook_scraper) (0.0.1)\n",
      "Requirement already satisfied: w3lib in c:\\users\\admin\\anaconda3\\lib\\site-packages (from requests-html<0.11.0,>=0.10.0->facebook_scraper) (1.21.0)\n",
      "Requirement already satisfied: pyppeteer>=0.0.14 in c:\\users\\admin\\anaconda3\\lib\\site-packages (from requests-html<0.11.0,>=0.10.0->facebook_scraper) (1.0.2)\n",
      "Requirement already satisfied: appdirs<2.0.0,>=1.4.3 in c:\\users\\admin\\anaconda3\\lib\\site-packages (from pyppeteer>=0.0.14->requests-html<0.11.0,>=0.10.0->facebook_scraper) (1.4.4)\n",
      "Requirement already satisfied: certifi>=2021 in c:\\users\\admin\\anaconda3\\lib\\site-packages (from pyppeteer>=0.0.14->requests-html<0.11.0,>=0.10.0->facebook_scraper) (2023.7.22)\n",
      "Requirement already satisfied: importlib-metadata>=1.4 in c:\\users\\admin\\anaconda3\\lib\\site-packages (from pyppeteer>=0.0.14->requests-html<0.11.0,>=0.10.0->facebook_scraper) (6.0.0)\n",
      "Requirement already satisfied: pyee<9.0.0,>=8.1.0 in c:\\users\\admin\\anaconda3\\lib\\site-packages (from pyppeteer>=0.0.14->requests-html<0.11.0,>=0.10.0->facebook_scraper) (8.2.2)\n",
      "Requirement already satisfied: tqdm<5.0.0,>=4.42.1 in c:\\users\\admin\\anaconda3\\lib\\site-packages (from pyppeteer>=0.0.14->requests-html<0.11.0,>=0.10.0->facebook_scraper) (4.65.0)\n",
      "Requirement already satisfied: urllib3<2.0.0,>=1.25.8 in c:\\users\\admin\\anaconda3\\lib\\site-packages (from pyppeteer>=0.0.14->requests-html<0.11.0,>=0.10.0->facebook_scraper) (1.26.16)\n",
      "Requirement already satisfied: websockets<11.0,>=10.0 in c:\\users\\admin\\anaconda3\\lib\\site-packages (from pyppeteer>=0.0.14->requests-html<0.11.0,>=0.10.0->facebook_scraper) (10.4)\n",
      "Requirement already satisfied: beautifulsoup4 in c:\\users\\admin\\anaconda3\\lib\\site-packages (from bs4->requests-html<0.11.0,>=0.10.0->facebook_scraper) (4.12.2)\n",
      "Requirement already satisfied: lxml>=2.1 in c:\\users\\admin\\anaconda3\\lib\\site-packages (from pyquery->requests-html<0.11.0,>=0.10.0->facebook_scraper) (4.9.2)\n",
      "Requirement already satisfied: cssselect>=1.2.0 in c:\\users\\admin\\anaconda3\\lib\\site-packages (from pyquery->requests-html<0.11.0,>=0.10.0->facebook_scraper) (1.2.0)\n",
      "Requirement already satisfied: charset-normalizer<4,>=2 in c:\\users\\admin\\anaconda3\\lib\\site-packages (from requests->requests-html<0.11.0,>=0.10.0->facebook_scraper) (2.0.4)\n",
      "Requirement already satisfied: idna<4,>=2.5 in c:\\users\\admin\\anaconda3\\lib\\site-packages (from requests->requests-html<0.11.0,>=0.10.0->facebook_scraper) (3.4)\n",
      "Requirement already satisfied: tzdata in c:\\users\\admin\\anaconda3\\lib\\site-packages (from tzlocal->dateparser<2.0.0,>=1.0.0->facebook_scraper) (2023.3)\n",
      "Requirement already satisfied: zipp>=0.5 in c:\\users\\admin\\anaconda3\\lib\\site-packages (from importlib-metadata>=1.4->pyppeteer>=0.0.14->requests-html<0.11.0,>=0.10.0->facebook_scraper) (3.11.0)\n",
      "Requirement already satisfied: colorama in c:\\users\\admin\\anaconda3\\lib\\site-packages (from tqdm<5.0.0,>=4.42.1->pyppeteer>=0.0.14->requests-html<0.11.0,>=0.10.0->facebook_scraper) (0.4.6)\n",
      "Requirement already satisfied: soupsieve>1.2 in c:\\users\\admin\\anaconda3\\lib\\site-packages (from beautifulsoup4->bs4->requests-html<0.11.0,>=0.10.0->facebook_scraper) (2.4)\n",
      "Note: you may need to restart the kernel to use updated packages.\n"
     ]
    }
   ],
   "source": [
    "%pip install facebook_scraper pandas numpy"
   ]
  },
  {
   "cell_type": "markdown",
   "metadata": {},
   "source": [
    "### Khai báo thư viện"
   ]
  },
  {
   "cell_type": "code",
   "execution_count": 2,
   "metadata": {
    "executionInfo": {
     "elapsed": 1442,
     "status": "ok",
     "timestamp": 1700924243546,
     "user": {
      "displayName": "Thành Tuấn",
      "userId": "02935244803714561339"
     },
     "user_tz": -420
    },
    "id": "zhlg_NvgAIGN"
   },
   "outputs": [],
   "source": [
    "from facebook_scraper import get_posts\n",
    "import pandas as pd\n",
    "import numpy as np"
   ]
  },
  {
   "cell_type": "markdown",
   "metadata": {},
   "source": [
    "### Khai báo đường link, đường dẫn và số bài viết thu thập"
   ]
  },
  {
   "cell_type": "code",
   "execution_count": 3,
   "metadata": {
    "executionInfo": {
     "elapsed": 3,
     "status": "ok",
     "timestamp": 1700924243547,
     "user": {
      "displayName": "Thành Tuấn",
      "userId": "02935244803714561339"
     },
     "user_tz": -420
    },
    "id": "XU9lHfCw-19M"
   },
   "outputs": [],
   "source": [
    "FANPAGE_LINK =\"LiverpoolFC\"\n",
    "FOLDER_PATH = \"C:/Users/Admin/aim/project_analysis_data_facebook/data/\"\n",
    "COOKIE_PATH = \"C:/Users/Admin/aim/project_analysis_data_facebook/liverpool/www.facebook.com_cookies.txt\"\n",
    "\n",
    "PAGES_NUMBER = 10"
   ]
  },
  {
   "cell_type": "markdown",
   "metadata": {},
   "source": [
    "### Tiến hành thu thập dữ liệu"
   ]
  },
  {
   "cell_type": "code",
   "execution_count": 4,
   "metadata": {
    "scrolled": true
   },
   "outputs": [],
   "source": [
    "post_list = []\n",
    "for post in get_posts(FANPAGE_LINK,\n",
    "                    options={\"comments\": True, \"reactions\": True, \"allow_extra_requests\": True},\n",
    "                    extra_info=True, pages=PAGES_NUMBER, cookies=COOKIE_PATH):\n",
    "        post_list.append(post)\n",
    "        print(post)"
   ]
  },
  {
   "cell_type": "code",
   "execution_count": 5,
   "metadata": {},
   "outputs": [
    {
     "data": {
      "text/plain": [
       "[]"
      ]
     },
     "execution_count": 5,
     "metadata": {},
     "output_type": "execute_result"
    }
   ],
   "source": [
    "post_list"
   ]
  },
  {
   "cell_type": "markdown",
   "metadata": {},
   "source": [
    "### Lưu lại kết quả thu thập từ trang page vào tệp CSV ở trong tong thư mục data"
   ]
  },
  {
   "cell_type": "code",
   "execution_count": 6,
   "metadata": {
    "id": "enVAuRKmAIGO",
    "outputId": "d9bc42de-3adb-40fa-c9e2-f91c7c94ae73",
    "scrolled": true
   },
   "outputs": [
    {
     "ename": "IndexError",
     "evalue": "list index out of range",
     "output_type": "error",
     "traceback": [
      "\u001b[1;31m---------------------------------------------------------------------------\u001b[0m",
      "\u001b[1;31mIndexError\u001b[0m                                Traceback (most recent call last)",
      "Cell \u001b[1;32mIn[6], line 2\u001b[0m\n\u001b[0;32m      1\u001b[0m \u001b[38;5;66;03m# Initialize dataframe to scrape Facebook post\u001b[39;00m\n\u001b[1;32m----> 2\u001b[0m post_df_full \u001b[38;5;241m=\u001b[39m pd\u001b[38;5;241m.\u001b[39mDataFrame(columns\u001b[38;5;241m=\u001b[39mpost_list[\u001b[38;5;241m0\u001b[39m]\u001b[38;5;241m.\u001b[39mkeys(), index\u001b[38;5;241m=\u001b[39m\u001b[38;5;28mrange\u001b[39m(\u001b[38;5;28mlen\u001b[39m(post_list)), data\u001b[38;5;241m=\u001b[39mpost_list)\n\u001b[0;32m      4\u001b[0m \u001b[38;5;66;03m# To df\u001b[39;00m\n\u001b[0;32m      5\u001b[0m path\u001b[38;5;241m=\u001b[39mFOLDER_PATH \u001b[38;5;241m+\u001b[39m FANPAGE_LINK \u001b[38;5;241m+\u001b[39m \u001b[38;5;124m\"\u001b[39m\u001b[38;5;124m.csv\u001b[39m\u001b[38;5;124m\"\u001b[39m\n",
      "\u001b[1;31mIndexError\u001b[0m: list index out of range"
     ]
    }
   ],
   "source": [
    "# Initialize dataframe to scrape Facebook post\n",
    "post_df_full = pd.DataFrame(columns=post_list[0].keys(), index=range(len(post_list)), data=post_list)\n",
    "\n",
    "# To df\n",
    "path=FOLDER_PATH + FANPAGE_LINK + \".csv\"\n",
    "post_df_full.to_csv(path, index=False)\n",
    "print(path)"
   ]
  },
  {
   "cell_type": "markdown",
   "metadata": {},
   "source": [
    "### Chuyển đổi danh sách các kí tự thành dataframe"
   ]
  },
  {
   "cell_type": "code",
   "execution_count": 10,
   "metadata": {
    "id": "GJbdSydxAIGO",
    "outputId": "9f21a309-7e19-43a8-fdf1-bef2c8d84b9f",
    "scrolled": true
   },
   "outputs": [],
   "source": [
    "df = pd.read_csv('C:/Users/Admin/aim/project_analysis_data_facebook/data/LiverpoolFC.csv')"
   ]
  },
  {
   "cell_type": "code",
   "execution_count": 12,
   "metadata": {},
   "outputs": [
    {
     "data": {
      "text/html": [
       "<div>\n",
       "<style scoped>\n",
       "    .dataframe tbody tr th:only-of-type {\n",
       "        vertical-align: middle;\n",
       "    }\n",
       "\n",
       "    .dataframe tbody tr th {\n",
       "        vertical-align: top;\n",
       "    }\n",
       "\n",
       "    .dataframe thead th {\n",
       "        text-align: right;\n",
       "    }\n",
       "</style>\n",
       "<table border=\"1\" class=\"dataframe\">\n",
       "  <thead>\n",
       "    <tr style=\"text-align: right;\">\n",
       "      <th></th>\n",
       "      <th>post_id</th>\n",
       "      <th>text</th>\n",
       "      <th>post_text</th>\n",
       "      <th>shared_text</th>\n",
       "      <th>original_text</th>\n",
       "      <th>time</th>\n",
       "      <th>timestamp</th>\n",
       "      <th>image</th>\n",
       "      <th>image_lowquality</th>\n",
       "      <th>images</th>\n",
       "      <th>...</th>\n",
       "      <th>w3_fb_url</th>\n",
       "      <th>reactions</th>\n",
       "      <th>reaction_count</th>\n",
       "      <th>with</th>\n",
       "      <th>page_id</th>\n",
       "      <th>sharers</th>\n",
       "      <th>image_id</th>\n",
       "      <th>image_ids</th>\n",
       "      <th>was_live</th>\n",
       "      <th>fetched_time</th>\n",
       "    </tr>\n",
       "  </thead>\n",
       "  <tbody>\n",
       "    <tr>\n",
       "      <th>0</th>\n",
       "      <td>8.992690e+14</td>\n",
       "      <td>🔴🗣️ Emile Heskey is the latest to tell the tal...</td>\n",
       "      <td>🔴🗣️ Emile Heskey is the latest to tell the tal...</td>\n",
       "      <td>LIVERPOOLFC.COM\\nMy Liverpool Story… with Emil...</td>\n",
       "      <td>🔴🗣️ Emile Heskey is the latest to tell the tal...</td>\n",
       "      <td>11/21/2023 0:01</td>\n",
       "      <td>1700499693</td>\n",
       "      <td>NaN</td>\n",
       "      <td>https://external.fhan5-2.fna.fbcdn.net/emg1/v/...</td>\n",
       "      <td>[]</td>\n",
       "      <td>...</td>\n",
       "      <td>https://www.facebook.com/LiverpoolFC/posts/899...</td>\n",
       "      <td>{'thích': 982, 'yêu thích': 183, 'thương thươn...</td>\n",
       "      <td>1175</td>\n",
       "      <td>NaN</td>\n",
       "      <td>67920382572</td>\n",
       "      <td>NaN</td>\n",
       "      <td>NaN</td>\n",
       "      <td>[]</td>\n",
       "      <td>False</td>\n",
       "      <td>11/21/2023 1:00</td>\n",
       "    </tr>\n",
       "    <tr>\n",
       "      <th>1</th>\n",
       "      <td>8.992110e+14</td>\n",
       "      <td>Back-to-back PFA Premier League Fans’ Player o...</td>\n",
       "      <td>Back-to-back PFA Premier League Fans’ Player o...</td>\n",
       "      <td>LIVERPOOLFC.COM\\nMohamed Salah named October's...</td>\n",
       "      <td>Back-to-back PFA Premier League Fans’ Player o...</td>\n",
       "      <td>11/20/2023 22:00</td>\n",
       "      <td>1700492458</td>\n",
       "      <td>NaN</td>\n",
       "      <td>https://external.fhan5-2.fna.fbcdn.net/emg1/v/...</td>\n",
       "      <td>[]</td>\n",
       "      <td>...</td>\n",
       "      <td>https://www.facebook.com/LiverpoolFC/posts/899...</td>\n",
       "      <td>{'thích': 3638, 'yêu thích': 902, 'haha': 1, '...</td>\n",
       "      <td>4594</td>\n",
       "      <td>NaN</td>\n",
       "      <td>67920382572</td>\n",
       "      <td>NaN</td>\n",
       "      <td>NaN</td>\n",
       "      <td>[]</td>\n",
       "      <td>False</td>\n",
       "      <td>11/21/2023 1:00</td>\n",
       "    </tr>\n",
       "    <tr>\n",
       "      <th>2</th>\n",
       "      <td>8.990810e+14</td>\n",
       "      <td>Ryan's first goal in Red 😍\\n\\nA look back at o...</td>\n",
       "      <td>Ryan's first goal in Red 😍\\n\\nA look back at o...</td>\n",
       "      <td>NaN</td>\n",
       "      <td>Ryan's first goal in Red 😍\\n\\nA look back at o...</td>\n",
       "      <td>11/20/2023 21:10</td>\n",
       "      <td>1700489427</td>\n",
       "      <td>NaN</td>\n",
       "      <td>https://scontent.fhan5-2.fna.fbcdn.net/v/t15.5...</td>\n",
       "      <td>[]</td>\n",
       "      <td>...</td>\n",
       "      <td>https://www.facebook.com/LiverpoolFC/posts/899...</td>\n",
       "      <td>{'thích': 4072, 'yêu thích': 1022, 'haha': 3, ...</td>\n",
       "      <td>5157</td>\n",
       "      <td>NaN</td>\n",
       "      <td>67920382572</td>\n",
       "      <td>NaN</td>\n",
       "      <td>NaN</td>\n",
       "      <td>[]</td>\n",
       "      <td>False</td>\n",
       "      <td>11/21/2023 1:00</td>\n",
       "    </tr>\n",
       "    <tr>\n",
       "      <th>3</th>\n",
       "      <td>8.991520e+14</td>\n",
       "      <td>Well in, Robbo 👏 #Euro2024 🔜\\n\\nVâng, Robbo 👏 ...</td>\n",
       "      <td>Well in, Robbo 👏 #Euro2024 🔜\\n\\nVâng, Robbo 👏 ...</td>\n",
       "      <td>NaN</td>\n",
       "      <td>Well in, Robbo 👏 #Euro2024 🔜</td>\n",
       "      <td>11/20/2023 20:01</td>\n",
       "      <td>1700485284</td>\n",
       "      <td>NaN</td>\n",
       "      <td>https://scontent.fhan5-2.fna.fbcdn.net/v/t39.3...</td>\n",
       "      <td>[]</td>\n",
       "      <td>...</td>\n",
       "      <td>https://www.facebook.com/LiverpoolFC/posts/899...</td>\n",
       "      <td>{'thích': 12735, 'yêu thích': 3112, 'haha': 19...</td>\n",
       "      <td>16019</td>\n",
       "      <td>NaN</td>\n",
       "      <td>67920382572</td>\n",
       "      <td>NaN</td>\n",
       "      <td>8.991510e+14</td>\n",
       "      <td>['899151118246387']</td>\n",
       "      <td>False</td>\n",
       "      <td>11/21/2023 1:00</td>\n",
       "    </tr>\n",
       "    <tr>\n",
       "      <th>4</th>\n",
       "      <td>8.991290e+14</td>\n",
       "      <td>Two years ago today... Diogo 😲\\n\\nNgày này hai...</td>\n",
       "      <td>Two years ago today... Diogo 😲\\n\\nNgày này hai...</td>\n",
       "      <td>NaN</td>\n",
       "      <td>Two years ago today... Diogo 😲</td>\n",
       "      <td>11/20/2023 19:20</td>\n",
       "      <td>1700482820</td>\n",
       "      <td>NaN</td>\n",
       "      <td>https://scontent.fhan5-2.fna.fbcdn.net/v/t15.5...</td>\n",
       "      <td>[]</td>\n",
       "      <td>...</td>\n",
       "      <td>https://www.facebook.com/LiverpoolFC/posts/899...</td>\n",
       "      <td>{'thích': 11699, 'yêu thích': 2506, 'haha': 45...</td>\n",
       "      <td>14403</td>\n",
       "      <td>NaN</td>\n",
       "      <td>67920382572</td>\n",
       "      <td>NaN</td>\n",
       "      <td>NaN</td>\n",
       "      <td>[]</td>\n",
       "      <td>False</td>\n",
       "      <td>11/21/2023 1:01</td>\n",
       "    </tr>\n",
       "  </tbody>\n",
       "</table>\n",
       "<p>5 rows × 51 columns</p>\n",
       "</div>"
      ],
      "text/plain": [
       "        post_id                                               text  \\\n",
       "0  8.992690e+14  🔴🗣️ Emile Heskey is the latest to tell the tal...   \n",
       "1  8.992110e+14  Back-to-back PFA Premier League Fans’ Player o...   \n",
       "2  8.990810e+14  Ryan's first goal in Red 😍\\n\\nA look back at o...   \n",
       "3  8.991520e+14  Well in, Robbo 👏 #Euro2024 🔜\\n\\nVâng, Robbo 👏 ...   \n",
       "4  8.991290e+14  Two years ago today... Diogo 😲\\n\\nNgày này hai...   \n",
       "\n",
       "                                           post_text  \\\n",
       "0  🔴🗣️ Emile Heskey is the latest to tell the tal...   \n",
       "1  Back-to-back PFA Premier League Fans’ Player o...   \n",
       "2  Ryan's first goal in Red 😍\\n\\nA look back at o...   \n",
       "3  Well in, Robbo 👏 #Euro2024 🔜\\n\\nVâng, Robbo 👏 ...   \n",
       "4  Two years ago today... Diogo 😲\\n\\nNgày này hai...   \n",
       "\n",
       "                                         shared_text  \\\n",
       "0  LIVERPOOLFC.COM\\nMy Liverpool Story… with Emil...   \n",
       "1  LIVERPOOLFC.COM\\nMohamed Salah named October's...   \n",
       "2                                                NaN   \n",
       "3                                                NaN   \n",
       "4                                                NaN   \n",
       "\n",
       "                                       original_text              time  \\\n",
       "0  🔴🗣️ Emile Heskey is the latest to tell the tal...   11/21/2023 0:01   \n",
       "1  Back-to-back PFA Premier League Fans’ Player o...  11/20/2023 22:00   \n",
       "2  Ryan's first goal in Red 😍\\n\\nA look back at o...  11/20/2023 21:10   \n",
       "3                       Well in, Robbo 👏 #Euro2024 🔜  11/20/2023 20:01   \n",
       "4                     Two years ago today... Diogo 😲  11/20/2023 19:20   \n",
       "\n",
       "    timestamp image                                   image_lowquality images  \\\n",
       "0  1700499693   NaN  https://external.fhan5-2.fna.fbcdn.net/emg1/v/...     []   \n",
       "1  1700492458   NaN  https://external.fhan5-2.fna.fbcdn.net/emg1/v/...     []   \n",
       "2  1700489427   NaN  https://scontent.fhan5-2.fna.fbcdn.net/v/t15.5...     []   \n",
       "3  1700485284   NaN  https://scontent.fhan5-2.fna.fbcdn.net/v/t39.3...     []   \n",
       "4  1700482820   NaN  https://scontent.fhan5-2.fna.fbcdn.net/v/t15.5...     []   \n",
       "\n",
       "   ...                                          w3_fb_url  \\\n",
       "0  ...  https://www.facebook.com/LiverpoolFC/posts/899...   \n",
       "1  ...  https://www.facebook.com/LiverpoolFC/posts/899...   \n",
       "2  ...  https://www.facebook.com/LiverpoolFC/posts/899...   \n",
       "3  ...  https://www.facebook.com/LiverpoolFC/posts/899...   \n",
       "4  ...  https://www.facebook.com/LiverpoolFC/posts/899...   \n",
       "\n",
       "                                           reactions reaction_count with  \\\n",
       "0  {'thích': 982, 'yêu thích': 183, 'thương thươn...           1175  NaN   \n",
       "1  {'thích': 3638, 'yêu thích': 902, 'haha': 1, '...           4594  NaN   \n",
       "2  {'thích': 4072, 'yêu thích': 1022, 'haha': 3, ...           5157  NaN   \n",
       "3  {'thích': 12735, 'yêu thích': 3112, 'haha': 19...          16019  NaN   \n",
       "4  {'thích': 11699, 'yêu thích': 2506, 'haha': 45...          14403  NaN   \n",
       "\n",
       "       page_id  sharers      image_id            image_ids  was_live  \\\n",
       "0  67920382572      NaN           NaN                   []     False   \n",
       "1  67920382572      NaN           NaN                   []     False   \n",
       "2  67920382572      NaN           NaN                   []     False   \n",
       "3  67920382572      NaN  8.991510e+14  ['899151118246387']     False   \n",
       "4  67920382572      NaN           NaN                   []     False   \n",
       "\n",
       "      fetched_time  \n",
       "0  11/21/2023 1:00  \n",
       "1  11/21/2023 1:00  \n",
       "2  11/21/2023 1:00  \n",
       "3  11/21/2023 1:00  \n",
       "4  11/21/2023 1:01  \n",
       "\n",
       "[5 rows x 51 columns]"
      ]
     },
     "execution_count": 12,
     "metadata": {},
     "output_type": "execute_result"
    }
   ],
   "source": [
    "df.head()"
   ]
  },
  {
   "cell_type": "code",
   "execution_count": 13,
   "metadata": {},
   "outputs": [
    {
     "name": "stdout",
     "output_type": "stream",
     "text": [
      "<class 'pandas.core.frame.DataFrame'>\n",
      "RangeIndex: 100 entries, 0 to 99\n",
      "Data columns (total 51 columns):\n",
      " #   Column                         Non-Null Count  Dtype  \n",
      "---  ------                         --------------  -----  \n",
      " 0   post_id                        100 non-null    float64\n",
      " 1   text                           98 non-null     object \n",
      " 2   post_text                      98 non-null     object \n",
      " 3   shared_text                    21 non-null     object \n",
      " 4   original_text                  76 non-null     object \n",
      " 5   time                           100 non-null    object \n",
      " 6   timestamp                      100 non-null    int64  \n",
      " 7   image                          37 non-null     object \n",
      " 8   image_lowquality               100 non-null    object \n",
      " 9   images                         100 non-null    object \n",
      " 10  images_description             100 non-null    object \n",
      " 11  images_lowquality              100 non-null    object \n",
      " 12  images_lowquality_description  100 non-null    object \n",
      " 13  video                          41 non-null     object \n",
      " 14  video_duration_seconds         0 non-null      float64\n",
      " 15  video_height                   0 non-null      float64\n",
      " 16  video_id                       41 non-null     float64\n",
      " 17  video_quality                  0 non-null      float64\n",
      " 18  video_size_MB                  0 non-null      float64\n",
      " 19  video_thumbnail                41 non-null     object \n",
      " 20  video_watches                  0 non-null      float64\n",
      " 21  video_width                    0 non-null      float64\n",
      " 22  likes                          0 non-null      float64\n",
      " 23  comments                       100 non-null    int64  \n",
      " 24  shares                         100 non-null    int64  \n",
      " 25  post_url                       100 non-null    object \n",
      " 26  link                           23 non-null     object \n",
      " 27  links                          98 non-null     object \n",
      " 28  user_id                        100 non-null    float64\n",
      " 29  username                       100 non-null    object \n",
      " 30  user_url                       100 non-null    object \n",
      " 31  is_live                        100 non-null    bool   \n",
      " 32  factcheck                      0 non-null      float64\n",
      " 33  shared_post_id                 0 non-null      float64\n",
      " 34  shared_time                    0 non-null      float64\n",
      " 35  shared_user_id                 0 non-null      float64\n",
      " 36  shared_username                0 non-null      float64\n",
      " 37  shared_post_url                0 non-null      float64\n",
      " 38  available                      100 non-null    bool   \n",
      " 39  comments_full                  100 non-null    object \n",
      " 40  reactors                       98 non-null     object \n",
      " 41  w3_fb_url                      99 non-null     object \n",
      " 42  reactions                      100 non-null    object \n",
      " 43  reaction_count                 100 non-null    int64  \n",
      " 44  with                           2 non-null      object \n",
      " 45  page_id                        100 non-null    int64  \n",
      " 46  sharers                        0 non-null      float64\n",
      " 47  image_id                       23 non-null     float64\n",
      " 48  image_ids                      100 non-null    object \n",
      " 49  was_live                       100 non-null    bool   \n",
      " 50  fetched_time                   99 non-null     object \n",
      "dtypes: bool(3), float64(18), int64(5), object(25)\n",
      "memory usage: 37.9+ KB\n"
     ]
    }
   ],
   "source": [
    "df.info()"
   ]
  }
 ],
 "metadata": {
  "colab": {
   "provenance": []
  },
  "kernelspec": {
   "display_name": "Python 3 (ipykernel)",
   "language": "python",
   "name": "python3"
  },
  "language_info": {
   "codemirror_mode": {
    "name": "ipython",
    "version": 3
   },
   "file_extension": ".py",
   "mimetype": "text/x-python",
   "name": "python",
   "nbconvert_exporter": "python",
   "pygments_lexer": "ipython3",
   "version": "3.11.4"
  }
 },
 "nbformat": 4,
 "nbformat_minor": 1
}
