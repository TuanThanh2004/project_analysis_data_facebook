{
 "cells": [
  {
   "cell_type": "markdown",
   "metadata": {},
   "source": [
    "#### Phân tích nội dung"
   ]
  },
  {
   "cell_type": "markdown",
   "metadata": {},
   "source": [
    "#### Đọc file data_ready.csv"
   ]
  },
  {
   "cell_type": "code",
   "execution_count": 1,
   "metadata": {},
   "outputs": [
    {
     "name": "stdout",
     "output_type": "stream",
     "text": [
      "Requirement already satisfied: rake-nltk in c:\\users\\admin\\appdata\\local\\programs\\python\\python39\\lib\\site-packages (1.0.6)\n",
      "Requirement already satisfied: nltk<4.0.0,>=3.6.2 in c:\\users\\admin\\appdata\\local\\programs\\python\\python39\\lib\\site-packages (from rake-nltk) (3.8.1)\n",
      "Requirement already satisfied: click in c:\\users\\admin\\appdata\\local\\programs\\python\\python39\\lib\\site-packages (from nltk<4.0.0,>=3.6.2->rake-nltk) (8.1.7)\n",
      "Requirement already satisfied: joblib in c:\\users\\admin\\appdata\\local\\programs\\python\\python39\\lib\\site-packages (from nltk<4.0.0,>=3.6.2->rake-nltk) (1.2.0)\n",
      "Requirement already satisfied: regex>=2021.8.3 in c:\\users\\admin\\appdata\\local\\programs\\python\\python39\\lib\\site-packages (from nltk<4.0.0,>=3.6.2->rake-nltk) (2023.10.3)\n",
      "Requirement already satisfied: tqdm in c:\\users\\admin\\appdata\\local\\programs\\python\\python39\\lib\\site-packages (from nltk<4.0.0,>=3.6.2->rake-nltk) (4.66.1)\n",
      "Requirement already satisfied: colorama in c:\\users\\admin\\appdata\\roaming\\python\\python39\\site-packages (from click->nltk<4.0.0,>=3.6.2->rake-nltk) (0.4.6)\n",
      "Note: you may need to restart the kernel to use updated packages.\n"
     ]
    },
    {
     "name": "stderr",
     "output_type": "stream",
     "text": [
      "\n",
      "[notice] A new release of pip is available: 23.1.2 -> 23.3.1\n",
      "[notice] To update, run: python.exe -m pip install --upgrade pip\n"
     ]
    }
   ],
   "source": [
    "%pip install rake-nltk"
   ]
  },
  {
   "cell_type": "code",
   "execution_count": 2,
   "metadata": {},
   "outputs": [
    {
     "name": "stderr",
     "output_type": "stream",
     "text": [
      "[nltk_data] Downloading package stopwords to\n",
      "[nltk_data]     C:\\Users\\Admin\\AppData\\Roaming\\nltk_data...\n",
      "[nltk_data]   Package stopwords is already up-to-date!\n",
      "[nltk_data] Downloading package punkt to\n",
      "[nltk_data]     C:\\Users\\Admin\\AppData\\Roaming\\nltk_data...\n",
      "[nltk_data]   Package punkt is already up-to-date!\n"
     ]
    },
    {
     "data": {
      "text/plain": [
       "True"
      ]
     },
     "execution_count": 2,
     "metadata": {},
     "output_type": "execute_result"
    }
   ],
   "source": [
    "import pandas as pd\n",
    "import nltk\n",
    "nltk.download(\"stopwords\")\n",
    "nltk.download(\"punkt\")"
   ]
  },
  {
   "cell_type": "code",
   "execution_count": 3,
   "metadata": {},
   "outputs": [],
   "source": [
    "import pandas as pd\n",
    "import matplotlib.pyplot as plt"
   ]
  },
  {
   "cell_type": "code",
   "execution_count": 4,
   "metadata": {},
   "outputs": [],
   "source": [
    "df = pd.read_csv('C:/Users/Admin/aim/project_analysis_data_facebook/data/data_ready.csv')"
   ]
  },
  {
   "cell_type": "code",
   "execution_count": 5,
   "metadata": {},
   "outputs": [
    {
     "data": {
      "text/html": [
       "<div>\n",
       "<style scoped>\n",
       "    .dataframe tbody tr th:only-of-type {\n",
       "        vertical-align: middle;\n",
       "    }\n",
       "\n",
       "    .dataframe tbody tr th {\n",
       "        vertical-align: top;\n",
       "    }\n",
       "\n",
       "    .dataframe thead th {\n",
       "        text-align: right;\n",
       "    }\n",
       "</style>\n",
       "<table border=\"1\" class=\"dataframe\">\n",
       "  <thead>\n",
       "    <tr style=\"text-align: right;\">\n",
       "      <th></th>\n",
       "      <th>post_id</th>\n",
       "      <th>post_text</th>\n",
       "      <th>comments</th>\n",
       "      <th>comments_full</th>\n",
       "      <th>shares</th>\n",
       "      <th>reaction_count</th>\n",
       "      <th>thích</th>\n",
       "      <th>yêu thích</th>\n",
       "      <th>thương thương</th>\n",
       "      <th>haha</th>\n",
       "      <th>wow</th>\n",
       "      <th>buồn</th>\n",
       "      <th>phẫn nộ</th>\n",
       "      <th>hour</th>\n",
       "      <th>date</th>\n",
       "      <th>day</th>\n",
       "    </tr>\n",
       "  </thead>\n",
       "  <tbody>\n",
       "    <tr>\n",
       "      <th>0</th>\n",
       "      <td>8.992690e+14</td>\n",
       "      <td>🔴🗣️ Emile Heskey is the latest to tell the tal...</td>\n",
       "      <td>16</td>\n",
       "      <td>[{'comment_id': '1186163892166613', 'comment_u...</td>\n",
       "      <td>101</td>\n",
       "      <td>1175</td>\n",
       "      <td>982</td>\n",
       "      <td>183</td>\n",
       "      <td>10</td>\n",
       "      <td>0.0</td>\n",
       "      <td>0.0</td>\n",
       "      <td>0.0</td>\n",
       "      <td>0.0</td>\n",
       "      <td>0</td>\n",
       "      <td>11/21/2023</td>\n",
       "      <td>Tuesday</td>\n",
       "    </tr>\n",
       "    <tr>\n",
       "      <th>1</th>\n",
       "      <td>8.992110e+14</td>\n",
       "      <td>Back-to-back PFA Premier League Fans’ Player o...</td>\n",
       "      <td>83</td>\n",
       "      <td>[{'comment_id': '277210241476921', 'comment_ur...</td>\n",
       "      <td>31</td>\n",
       "      <td>4594</td>\n",
       "      <td>3638</td>\n",
       "      <td>902</td>\n",
       "      <td>49</td>\n",
       "      <td>1.0</td>\n",
       "      <td>4.0</td>\n",
       "      <td>0.0</td>\n",
       "      <td>0.0</td>\n",
       "      <td>22</td>\n",
       "      <td>11/20/2023</td>\n",
       "      <td>Monday</td>\n",
       "    </tr>\n",
       "    <tr>\n",
       "      <th>2</th>\n",
       "      <td>8.990810e+14</td>\n",
       "      <td>Ryan's first goal in Red 😍\\n\\nA look back at o...</td>\n",
       "      <td>49</td>\n",
       "      <td>[{'comment_id': '388506910181825', 'comment_ur...</td>\n",
       "      <td>53</td>\n",
       "      <td>5157</td>\n",
       "      <td>4072</td>\n",
       "      <td>1022</td>\n",
       "      <td>55</td>\n",
       "      <td>3.0</td>\n",
       "      <td>4.0</td>\n",
       "      <td>1.0</td>\n",
       "      <td>0.0</td>\n",
       "      <td>21</td>\n",
       "      <td>11/20/2023</td>\n",
       "      <td>Monday</td>\n",
       "    </tr>\n",
       "    <tr>\n",
       "      <th>3</th>\n",
       "      <td>8.991520e+14</td>\n",
       "      <td>Well in, Robbo 👏 #Euro2024 🔜\\n\\nVâng, Robbo 👏 ...</td>\n",
       "      <td>150</td>\n",
       "      <td>[{'comment_id': '314996431472511', 'comment_ur...</td>\n",
       "      <td>61</td>\n",
       "      <td>16019</td>\n",
       "      <td>12735</td>\n",
       "      <td>3112</td>\n",
       "      <td>146</td>\n",
       "      <td>19.0</td>\n",
       "      <td>6.0</td>\n",
       "      <td>1.0</td>\n",
       "      <td>0.0</td>\n",
       "      <td>20</td>\n",
       "      <td>11/20/2023</td>\n",
       "      <td>Monday</td>\n",
       "    </tr>\n",
       "    <tr>\n",
       "      <th>4</th>\n",
       "      <td>8.991290e+14</td>\n",
       "      <td>Two years ago today... Diogo 😲\\n\\nNgày này hai...</td>\n",
       "      <td>211</td>\n",
       "      <td>[{'comment_id': '1028198778438522', 'comment_u...</td>\n",
       "      <td>211</td>\n",
       "      <td>14403</td>\n",
       "      <td>11699</td>\n",
       "      <td>2506</td>\n",
       "      <td>125</td>\n",
       "      <td>45.0</td>\n",
       "      <td>26.0</td>\n",
       "      <td>1.0</td>\n",
       "      <td>1.0</td>\n",
       "      <td>19</td>\n",
       "      <td>11/20/2023</td>\n",
       "      <td>Monday</td>\n",
       "    </tr>\n",
       "  </tbody>\n",
       "</table>\n",
       "</div>"
      ],
      "text/plain": [
       "        post_id                                          post_text  comments  \\\n",
       "0  8.992690e+14  🔴🗣️ Emile Heskey is the latest to tell the tal...        16   \n",
       "1  8.992110e+14  Back-to-back PFA Premier League Fans’ Player o...        83   \n",
       "2  8.990810e+14  Ryan's first goal in Red 😍\\n\\nA look back at o...        49   \n",
       "3  8.991520e+14  Well in, Robbo 👏 #Euro2024 🔜\\n\\nVâng, Robbo 👏 ...       150   \n",
       "4  8.991290e+14  Two years ago today... Diogo 😲\\n\\nNgày này hai...       211   \n",
       "\n",
       "                                       comments_full  shares  reaction_count  \\\n",
       "0  [{'comment_id': '1186163892166613', 'comment_u...     101            1175   \n",
       "1  [{'comment_id': '277210241476921', 'comment_ur...      31            4594   \n",
       "2  [{'comment_id': '388506910181825', 'comment_ur...      53            5157   \n",
       "3  [{'comment_id': '314996431472511', 'comment_ur...      61           16019   \n",
       "4  [{'comment_id': '1028198778438522', 'comment_u...     211           14403   \n",
       "\n",
       "   thích  yêu thích  thương thương  haha   wow  buồn  phẫn nộ  hour  \\\n",
       "0    982        183             10   0.0   0.0   0.0      0.0     0   \n",
       "1   3638        902             49   1.0   4.0   0.0      0.0    22   \n",
       "2   4072       1022             55   3.0   4.0   1.0      0.0    21   \n",
       "3  12735       3112            146  19.0   6.0   1.0      0.0    20   \n",
       "4  11699       2506            125  45.0  26.0   1.0      1.0    19   \n",
       "\n",
       "         date      day  \n",
       "0  11/21/2023  Tuesday  \n",
       "1  11/20/2023   Monday  \n",
       "2  11/20/2023   Monday  \n",
       "3  11/20/2023   Monday  \n",
       "4  11/20/2023   Monday  "
      ]
     },
     "execution_count": 5,
     "metadata": {},
     "output_type": "execute_result"
    }
   ],
   "source": [
    "df.head()"
   ]
  },
  {
   "cell_type": "markdown",
   "metadata": {},
   "source": [
    "#### Lấy toàn bộ nội dung các bài đăng"
   ]
  },
  {
   "cell_type": "code",
   "execution_count": 6,
   "metadata": {},
   "outputs": [
    {
     "data": {
      "text/plain": [
       "['🔴🗣️ Emile Heskey is the latest to tell the tale of his Reds career in his own words…\\n\\n🔴🗣️ Emile Heskey là người mới nhất kể câu chuyện về sự nghiệp Quỷ đỏ của mình bằng lời nói của chính mình...',\n",
       " 'Back-to-back PFA Premier League Fans’ Player of the Month awards 🏆\\n\\nCongratulations, Mo 👏\\n\\nGiải thưởng Cầu thủ xuất sắc nhất tháng của Người hâm mộ PFA Premier League 🏆\\n\\nChúc mừng Mo 👏',\n",
       " \"Ryan's first goal in Red 😍\\n\\nA look back at our 2-0 win over Union SG in the #UEL ⏪✨\\n\\nBàn thắng đầu tiên của Ryan ở Red 😍\\n\\nNhìn lại chiến thắng 2-0 của chúng ta trước Union SG tại #UEL ⏪✨\",\n",
       " 'Well in, Robbo 👏 #Euro2024 🔜\\n\\nVâng, Robbo 👏 #Euro2024 🔜',\n",
       " 'Two years ago today... Diogo 😲\\n\\nNgày này hai năm trước... Diogo 😲',\n",
       " '#OnThisDay in 2011... Glen Johnson scored a late winner at Stamford Bridge 😍\\n\\n#VàoNgàyNày năm 2011... Glen Johnson đã ghi một người chiến thắng muộn tại Stamford Bridge 😍',\n",
       " '“I’m on 100 games but I feel it’s just the beginning and I want to just carry on and hold the form and keep it going.” 🗣️\\n\\nThe latest episode of the \\'We are Liverpool\\' podcast, featuring Curtis Jones, is available from 7am GMT tomorrow 🎙️\\n\\n\"Tôi đang ở trong 100 trận đấu nhưng tôi cảm thấy đó chỉ là sự khởi đầu và tôi muốn tiếp tục và giữ phong độ và tiếp tục. ” 🗣️\\n\\nTập mới nhất của podcast \\'We are Liverpool\\', với sự tham gia của Curtis Jones, được mở bán từ 7 giờ sáng GMT ngày mai 🎙️',\n",
       " 'Andy Robertson has reported good progress on his recovery from surgery on a shoulder injury sustained last month ⤵️\\n\\nAndy Robertson đã báo cáo sự tiến triển tốt trong quá trình phục hồi sau phẫu thuật chấn thương vai bị tổn thương vào tháng trước ⤵️',\n",
       " 'A scintillating 4-0 win over Arsenal on this day in 2021 🤩',\n",
       " 'Szobo scored twice in two minutes for Hungary in a 3-1 victory over Montenegro on Sunday 🇭🇺\\n\\nOur latest international round-up ⤵️\\n\\nSzobo ghi hai bàn trong hai phút cho Hungary trong chiến thắng 3-1 trước Montenegro vào Chủ nhật 🇭🇺\\n\\nTổng hợp quốc tế mới nhất của chúng tôi ⤵️',\n",
       " 'THAT Szobo strike 😍\\n\\nRewind to our comeback win in the Carabao Cup against Leicester City ⏪\\n\\nĐÓ là cú tấn công Szobo 😍\\n\\nTua lại chiến thắng trở lại của chúng tôi ở Carabao Cup trước Leicester City ⏪',\n",
       " 'Continuing our review of the Premier League season so far 🎬\\n\\nWe analyse the positive impact of Darwin Nunez 💪\\n\\nTiếp tục đánh giá của chúng tôi về mùa giải Premier League cho đến nay 🎬\\n\\nChúng tôi phân tích tác động tích cực của Darwin Nunez 💪',\n",
       " 'How well can you remember our 2023-24 season so far? 🤔\\n\\nBạn có thể nhớ mùa giải 2023-24 của chúng tôi rõ đến mức nào? 🤔',\n",
       " 'Two goals in two minutes for Szobo this afternoon 🥶',\n",
       " 'TAA ⚡',\n",
       " \"Salah's precision, Darwin's volley, and another Diogoal 🥶\\n\\nThe key moments from our 3-1 win over West Ham earlier in the season 🎥\\n\\nSự chính xác của Salah, volley của Darwin, và một Diogoal khác 🥶\\n\\nNhững khoảnh khắc quan trọng từ chiến thắng 3-1 của chúng tôi trước West Ham trước mùa giải 🎥\",\n",
       " '“You don’t only play the starting XI so it’s important that everybody is always ready for playing. We have a good squad.” 👊\\n\\n\"Bạn không chỉ chơi XI khởi đầu, nên điều quan trọng là tất cả luôn sẵn sàng để chơi. Chúng ta có một đội hình tốt. ” 👊',\n",
       " \"'Mum, is this you?!'\\n\\nThe story behind a treasured LFC photograph 📸\\n\\n'Mẹ ơi, đây là mẹ à?! '\\n\\nCâu chuyện đằng sau một bức ảnh LFC đáng trân trọng 📸\",\n",
       " \"Memories to last a lifetime ❤️\\n\\nLinda Clark reminisces on attending the UEFA Cup final against Borussia Monchengladbach in Germany - and the special photo that made her 'Twitter famous'. 📸\\n\\nNhững kỷ niệm để tồn tại suốt đời ❤️\\n\\nLinda Clark hồi tưởng về việc tham dự trận chung kết UEFA Cup trước Borussia Monchengladbach ở Đức - và bức ảnh đặc biệt đã khiến cô 'Twitter nổi tiếng'. 📸\",\n",
       " 'Harvey scoring for England 💎\\nVirg and Cody reach EURO 2024 👏\\n\\nOur latest international round-up 🌍\\n\\nHarvey ghi bàn cho Anh 💎\\nVirg và Cody đạt EURO 2024 👏\\n\\nTổng hợp quốc tế mới nhất của chúng tôi 🌍',\n",
       " 'Stefan Bajcetic: A lover of chess, independence, and photography 💫',\n",
       " 'Qualification to EURO 2024 for Virg and Cody ✅\\n\\nCongratulations, lads 🇳🇱\\n\\nVòng loại vào EURO 2024 cho Virg và Cody ✅\\n\\nChúc mừng các chàng trai 🇳🇱',\n",
       " 'Goals from Darwin, Lucho, and Mo secured all three points at LASK to kick off our #UEL campaign earlier this season ⏪✨',\n",
       " 'Trent was named Player of the Match for England last night 🆚 Malta 👏\\n\\nTrent được mệnh danh là Cầu thủ xuất sắc nhất trận đấu cho Anh tối qua 🆚 Malta 👏',\n",
       " 'Join Neil, Becky, and Michael, as they analyse the action and look at the numbers from the season so far!\\n\\nWatch the full episode of the #PL Review Show Season So Far on LFCTV and LFCTV GO 📺',\n",
       " 'Harvey extending the England U21s lead this evening against Serbia 🙌\\n\\nHarvey kéo dài đội U21 Anh dẫn trước tối nay với Serbia 🙌',\n",
       " '🇳🇱 v 🇮🇪\\n\\nCody and Virgil will face Caoimhin in #EURO2024 qualifying action this evening 👊\\n\\n🇳🇱 v 🇮🇪\\n\\nCody và Virgil sẽ đối đầu với Caoimhin trong trận đấu vòng loại #EURO2024 vào tối nay 👊',\n",
       " 'TAA in action last night for England 📸\\n\\nTAA đang hoạt động tối qua cho Anh 📸',\n",
       " '#OnThisDay in 2017... a lovely Mo Salah strike vs Southampton 👌\\n\\n#VàoNgàyNày năm 2017... một cuộc tấn công Mo Salah đáng yêu đấu với Southampton 👌',\n",
       " 'A 2-0 win for Tsimi and Greece last night 👏🇬🇷\\n\\nChiến thắng 2-0 cho Tsimi và Hy Lạp tối qua 👏🇬🇷',\n",
       " 'A lover of chess, independence, and photography. 📸 #InspiRED with Stefan Bajcetic 💫 #AD',\n",
       " \"Save 25% on selected Nike training and lifestyle lines with LFC Retail's Black Friday offer 🤩\\n\\nShop now at https://bit.ly/LFC_Xmas_23\\n\\nTiết kiệm 25% cho một số đường đào tạo và phong cách sống Nike với ưu đãi Black Friday của LFC Retail 🤩\\n\\nMua ngay tại https://bit.ly/LFC_Xmas_23\",\n",
       " \"Success isn’t guaranteed. Sometimes, teams need a reboot…\\n\\nHow Bill Shankly’s second great Liverpool side ended a seven-year trophy drought.\\n\\nShankly’s Second Coming is now available to watch on LFCTV GO 📽️\\n\\nKhông đảm bảo thành công. Đôi khi, các đội cần khởi động lại...\\n\\nCách đội Liverpool vĩ đại thứ hai của Bill Shankly kết thúc hạn hán bảy năm.\\n\\nShankly's Second Coming hiện đã có sẵn để xem trên LFCTV GO 📽️\",\n",
       " 'A dramatic comeback at Molineux earlier this season... ⏪😮\\n\\nSự trở lại đầy kịch tính tại Molineux vào đầu mùa giải này... ⏪😮',\n",
       " 'Ben Doak claimed an assist as three of our senior squad were involved in international action this evening ⤵️\\n\\nBen Doak tuyên bố một trợ lý là ba trong số đội hình cao cấp của chúng tôi tham gia vào các hành động quốc tế vào tối nay ⤵️',\n",
       " 'Getting set with the #ThreeLions to take on Malta 💪\\n\\nChuẩn bị với #ThreeLions để tiếp nhận Malta 💪',\n",
       " \"We're 1️⃣2️⃣ games into our Premier League campaign so far, let's take a look back...\\n\\nWatch the full episode of the #PL Review Show Season So Far on LFCTV and LFCTV GO now 📺\",\n",
       " 'An impressive performance from Mo for Egypt yesterday 🇪🇬👑\\n\\nMột màn trình diễn ấn tượng từ Mo cho Ai Cập ngày hôm qua 🇪🇬👑',\n",
       " 'That Szobo strike 😮\\u200d💨\\n\\nThree points and a clean sheet against Aston Villa earlier this season 🙌⏪\\n\\nCuộc tấn công Szobo đó 😮 💨\\n\\nBa điểm và một tờ giấy sạch trước Aston Villa vào đầu mùa giải này 🙌 ⏪',\n",
       " 'Qualification for #EURO2024 secured ✅\\n\\nCongratulations, Szobo 🇭🇺\\n\\nĐạt tiêu chuẩn cho #EURO2024 được bảo mật ✅\\n\\nChúc mừng, Szobo 🇭🇺',\n",
       " '“It is a nice answer for people who still live in the past.”\\n\\nWe teamed up with AXA to challenge gender stereotypes. Football is for everyone. #KnowYouCan\\n\\n\"Đó là một câu trả lời hay cho những người vẫn sống trong quá khứ. ”\\n\\nChúng tôi đã hợp tác với AXA để thách thức khuôn mẫu giới tính. Đá banh là dành cho tất cả. #Biếtbạncóthể',\n",
       " 'More than 25 club legends have now been confirmed to attend the annual #ForeverReds Christmas Lunch on Friday December 15 at Anfield. 🙌⤵️\\n\\nHơn 25 huyền thoại câu lạc bộ hiện đã được xác nhận tham dự Bữa trưa Giáng sinh #ForeverReds hàng năm vào thứ Sáu ngày 15 tháng Mười Hai tại Anfield. 🙌⤵️',\n",
       " \"Diogo provided an assist for Portugal's opener in their 2-0 win over Liechtenstein 🙌🇵🇹\\n\\n📸 Seleções de Portugal\\n\\nDiogo đã cung cấp một kiến tạo cho trận mở màn của Bồ Đào Nha trong chiến thắng 2-0 trước Liechtenstein 🙌🇵🇹\\n\\n📸 Seleções de Portugal\",\n",
       " 'Dominik Szoboszlai has opened up on his enjoyment playing as part of a new-look Liverpool squad under Jürgen Klopp this season. ⤵️\\n\\nDominik Szoboszlai đã mở màn trong sự thích thú khi chơi như một phần của đội hình Liverpool diện mạo mới dưới thời Jürgen Klopp mùa giải này. ⤵️',\n",
       " 'Darwin netted a late strike in Uruguay’s 2-0 win over Argentina ⚽🇺🇾\\n\\nDarwin đánh lưới một cú tấn công muộn trong chiến thắng 2-0 của Uruguay trước Argentina ⚽🇺 🇾',\n",
       " \"We're LIVE as Matt Beard previews tomorrow's meeting with Chelsea in the Barclays Women's Super League 🎙️\\n\\nChúng tôi đang TRỰC TIẾP khi Matt Beard xem trước cuộc họp ngày mai với Chelsea tại Barclays Women's Super League 🎙️\",\n",
       " 'Two goals from Lucho gave Colombia a 2-1 win over Brazil 👏🇨🇴\\n\\nHai bàn thắng từ Lucho mang lại cho Colombia chiến thắng 2-1 trước Brazil 👏🇨 🇴',\n",
       " 'Preparing for #YoungLions action 🔜\\n\\nChuẩn bị cho hành động #YoungLions 🔜',\n",
       " '🇺🇾 Darwin x Luis 😁',\n",
       " '⚽⚽⚽⚽\\n\\nFour goals for Mo in Egypt’s 6-0 win over Djibouti this evening 👏🇪🇬\\n\\n⚽⚽⚽⚽\\n\\nBốn bàn thắng cho Mo trong chiến thắng 6-0 của Ai Cập trước Djibouti tối nay 👏🇪🇬',\n",
       " 'Putting in the work with the #ThreeLions 👊\\n\\nĐang làm việc với #ThreeLions 👊',\n",
       " \"A delightful Darwin double to win all three points at St. James' Park earlier this season 😍⏪\\n\\nMột cú đúp Darwin thú vị để giành được cả ba điểm tại St. James' Park vào đầu mùa giải này 😍 ⏪\",\n",
       " 'Alexis 🇦🇷 and Darwin 🇺🇾 also take on each other in South American #WCQ action tonight 👊\\n\\nAlexis 🇦🇷 và Darwin 🇺 🇾 cũng đối đầu với nhau trong hành động #WCQ Nam Mỹ tối nay 👊',\n",
       " '🇨🇴 v 🇧🇷\\n\\nLucho and Alisson face each other in South American #WCQ action later this evening. 🌎\\n\\n🇨 🇴 v 🇧🇷\\n\\nLucho và Alisson đối mặt với nhau trong hành động #WCQ Nam Mỹ vào tối nay. 🌎',\n",
       " \"H🔥T or N❄️T\\n\\nDerby day, favourite superheroes, and more 👀\\n\\nCody, Curtis and Adrian debate which topics are ‘Hot’ or ‘Not’ 😅\\n\\nH🔥T hay N❄️T\\n\\nNgày Derby, những siêu anh hùng yêu thích, và nhiều hơn thế nữa 👀\\n\\nCody, Curtis và Adrian tranh luận về chủ đề nào là 'Hot' hay 'Không' 😅\",\n",
       " 'Ons Oranje time for Virgil and Cody 💪\\n\\nThời gian Ons Oranje dành cho Virgil và Cody 💪',\n",
       " 'A group of local school children were given a day to remember at the AXA Training Centre recently when they were surprised by their heroes during a Nike #GAMEON event hosted by the LFC Foundation 💫',\n",
       " 'A surprise skill session with Szobo! 🙌 Courtesy of the Nike Football #GAMEON programme and the LFC Foundation, two local schools had a day of making memories when they met up with the squad 🤩 #AD',\n",
       " 'AB1 on his most memorable individual moments in the Premier League 🧤\\n\\nAB1 trong những khoảnh khắc cá nhân đáng nhớ nhất của anh tại Ngoại hạng Anh 🧤',\n",
       " '#OnThisDay in 1974, Reds legends Phil Neal and Terry McDermott made their debuts...\\n\\nBetween them, they proceeded to make an incredible 979 appearances and etched their names into our history 🏆\\n\\n#Vàongàynày năm 1974, huyền thoại Quỷ đỏ Phil Neal và Terry McDermott có màn ra mắt...\\n\\nGiữa họ, họ tiến hành có 979 lần ra sân tuyệt vời và khắc tên của họ vào lịch sử của chúng ta 🏆',\n",
       " 'Goal involvements in 1️⃣5️⃣ consecutive Premier League matches at Anfield. 🤯\\n\\nThe Egyptian King 👑\\n\\nMục tiêu tham gia trong 1️⃣5️⃣ trận Premier League liên tiếp tại Anfield. 🤯\\n\\nVua Ai Cập 👑',\n",
       " 'BTS: LFC Retail Christmas shoot 📸✨',\n",
       " '🇳🇱🤝',\n",
       " 'Straight to work with Uruguay 🇺🇾💪\\n\\nThẳng tiến làm việc với Uruguay 🇺 🇾💪',\n",
       " 'Looking back at our first win of the season 🆚 Bournemouth 📽️\\n\\nLucho, Salah, and Diogo on target 🎯\\n\\nNhìn lại chiến thắng đầu tiên của chúng tôi trong mùa giải 🆚 Bournemouth 📽️\\n\\nLucho, Salah, và Diogo vào mục tiêu 🎯',\n",
       " '\"It\\'s never too early for Christmas!\" 🙌\\n\\nEnjoy exclusive behind-the-scenes access at this year\\'s LFC Retail Christmas shoot 🎬\\n\\n\"Không bao giờ là quá sớm cho Giáng sinh! \" 🙌\\n\\nTận hưởng quyền truy cập hậu trường độc quyền tại buổi chụp hình Giáng sinh bán lẻ LFC năm nay 🎬',\n",
       " \"Spell Szobo’s surname?! Over to you, Alexis 😅\\n\\nDarwin Nunez & Alex Mac Allister are next up to take on EA SPORTS FC's quickfire questions 🤔 AD\\n\\nĐánh vần họ của Szobo?! Đến với bạn, Alexis 😅\\n\\nTiếp theo là Darwin Nunez & Alex Mac Allister sẽ tiếp nhận các câu hỏi nhanh của EA SPORTS FC 🤔 AD\",\n",
       " 'El Niño ➡️ Stevie 🔥On this day in 2008 ⏪\\n\\nEl Niño ➡️ Stevie 🔥Vào ngày này năm 2008 ⏪',\n",
       " 'When and where will our senior squad be representing their countries this month? 🌍',\n",
       " 'Unbeatable at the back ✊\\n\\nWishing legend big Ron Yeats a happy birthday 🥳\\n\\nPhía sau bất bại ✊\\n\\nChúc huyền thoại Ron Yeats sinh nhật vui vẻ 🥳',\n",
       " 'Our U21s have qualified for the knockout phase of the Bristol Street Motors Trophy for the first time. 🙌',\n",
       " 'AB1 😮\\u200d💨',\n",
       " \"Every angle of Diogo Jota18's fine finish from Sunday's win at Anfield 🎬\\n\\nMỗi góc độ hoàn thiện tốt của Diogo Jota18 từ chiến thắng ngày Chủ nhật tại Anfield 🎬\",\n",
       " 'Liverpool Legends will take on AFC Ajax Legends in the next annual charity match on Saturday March 23, 2024 at Anfield 🙌\\n\\nLiverpool Legends sẽ tham gia AFC Ajax Legends trong trận đấu từ thiện hàng năm tiếp theo vào thứ Bảy ngày 23 tháng 3 năm 2024 tại Anfield 🙌',\n",
       " 'Virgil van Dijk is optimistic we can continue to build on our season so far after climbing to second place in the Premier League before the international break. 📈',\n",
       " \"Watch the extended action from Sunday's 3-0 win at Anfield 🙌\\n\\nXem hành động mở rộng từ chiến thắng 3-0 của ngày Chủ nhật tại Anfield 🙌\",\n",
       " 'Inside Anfield is live 🙌\\n\\nGo behind the scenes as goals from Mo Salah and Diogo Jota secured our sixth straight home Premier League win 📲\\n\\nInside Anfield đang trực tiếp 🙌\\n\\nQuay lại hậu trường khi bàn thắng từ Mo Salah và Diogo Jota đã đảm bảo chiến thắng thứ sáu liên tiếp trên sân nhà Premier League 📲',\n",
       " 'Big Virg against Brentford 🔝\\n\\nBig Virg chống lại Brentford 🔝',\n",
       " 'Look out, Santa 😅\\n\\nCoi chừng, ông già Noel 😅',\n",
       " 'AB1 arriving for international duty 🇧🇷\\n\\nAB1 đến với nghĩa vụ quốc tế 🇧🇷',\n",
       " 'This is Diogo Jota’s journey to the top, in his own words 🗣️ #InspiRED with Kodansha #AD\\n\\nĐây là hành trình lên đỉnh cao của Diogo Jota, theo lời của riêng anh ấy 🗣️ #InspiRED với Kodansha #AD',\n",
       " 'Are you dreaming of a Red Christmas? 😴✨\\n\\nShop 100s of exclusive LFC gifts in-store, in-app, and online with LFC Retail 🎁\\n\\n➡️ https://bit.ly/LFC_Xmas_23\\n\\nBạn đang mơ về Giáng sinh Đỏ? 😴✨\\n\\nMua sắm 100s quà tặng độc quyền của LFC tại cửa hàng, trong ứng dụng và trực tuyến với LFC Retail 🎁\\n\\n➡️ https://bit.ly/LFC_Xmas_23',\n",
       " 'Wishing on-loan defender Billy Koumetio a very happy birthday 🎈',\n",
       " '📸 #LIVBRE 🔴',\n",
       " 'The boss enjoyed our goals scored on Sunday 💪\\n\\nÔng chủ tận hưởng bàn thắng của chúng tôi ghi vào Chủ nhật 💪',\n",
       " 'Three consecutive clean sheets in the Premier League at Anfield 🧱\\n\\nWe take a look at the outstanding performances from Joel and big Virg 👏\\n\\nBa lần sạch lưới liên tiếp tại Premier League tại Anfield 🧱\\n\\nChúng tôi cùng xem những màn trình diễn xuất sắc từ Joel và Virg lớn 👏',\n",
       " '😍',\n",
       " 'Virg with a big clearance to keep a clean sheet ⛔\\n\\nVirg thanh lý lớn để giữ sạch tờ giấy ⛔',\n",
       " 'On this day in 1974, the Reds signed Terry McDermott ✊\\n\\n4x League Titles\\n3x European Cups\\n2x League Cups\\n1x UEFA Cup\\n1x Super Cup\\n\\nA scorer of some truly memorable goals, Terry Mac was capable of producing the spectacular 🔴\\n\\nVào ngày này năm 1974, Quỷ đỏ ký hợp đồng với Terry McDermott ✊\\n\\nDanh hiệu giải đấu 4x\\n3x cúp châu Âu\\n2x League Cups\\nCúp UEFA 1x\\nSiêu cúp 1x\\n\\nMột cầu thủ ghi bàn của những bàn thắng thực sự đáng nhớ, Terry Mac đã có khả năng tạo ra những bàn thắng ngoạn mục 🔴',\n",
       " 'On this day in 2004, Milan Baroš netted a last-minute winner at the Kop end to complete a memorable hat-trick 🤩',\n",
       " 'A Premier League debut for James McConnell yesterday 👏\\n\\nMột màn ra mắt Premier League cho James McConnell ngày hôm qua 👏',\n",
       " \"'What a level!' 🌟\\n\\nBrentford boss Thomas Frank hailed Mo Salah after the Egyptian's brilliance on Sunday. 🗣️\\n\\n'Đẳng cấp thật! ' 🌟\\n\\nÔng chủ Brentford Thomas Frank đã chào mừng Mo Salah sau sự thông minh của Ai Cập vào Chủ nhật. 🗣\",\n",
       " 'Kostas and Mo linking up to double our lead in #LIVBRE ⚽⚽\\n\\n#TeamPixel | #AD',\n",
       " '\"I really thank him because in this period he tried to keep me motivated to play well and help the team.\" 🗣️\\n\\nTsimikas explains Salah gratitude and importance of display in #LIVBRE ⤵️\\n\\n\"Tôi thực sự cảm ơn anh ấy vì trong khoảng thời gian này anh ấy đã cố gắng để tôi có động lực để chơi tốt và giúp đỡ cả đội. \" 🗣️\\n\\nTsimikas giải thích sự biết ơn của Salah và tầm quan trọng của việc trưng bày trong #LIVBRE ⤵️',\n",
       " 'Jürgen Klopp confirmed Joe Gomez and Ibrahima Konate missed #LIVBRE due to injuries.\\n\\nJürgen Klopp xác nhận Joe Gomez và Ibrahima Konate đã bỏ lỡ #LIVBRE do chấn thương.',\n",
       " 'Anfield remembers.\\n\\nAnfield nhớ.',\n",
       " 'Good morning 😁🔴\\n\\nChào buổi sáng 😁🔴',\n",
       " 'Big Virg against Brentford 🔝\\n\\nBig Virg chống lại Brentford 🔝']"
      ]
     },
     "execution_count": 6,
     "metadata": {},
     "output_type": "execute_result"
    }
   ],
   "source": [
    "list_text_full = []\n",
    "\n",
    "for text in df.post_text:\n",
    "    list_text_full.append(text)\n",
    "list_text_full"
   ]
  }
 ],
 "metadata": {
  "kernelspec": {
   "display_name": "Python 3",
   "language": "python",
   "name": "python3"
  },
  "language_info": {
   "codemirror_mode": {
    "name": "ipython",
    "version": 3
   },
   "file_extension": ".py",
   "mimetype": "text/x-python",
   "name": "python",
   "nbconvert_exporter": "python",
   "pygments_lexer": "ipython3",
   "version": "3.9.0rc2"
  }
 },
 "nbformat": 4,
 "nbformat_minor": 2
}
