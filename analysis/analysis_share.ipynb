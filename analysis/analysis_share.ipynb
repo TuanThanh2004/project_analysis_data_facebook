{
 "cells": [
  {
   "cell_type": "markdown",
   "metadata": {},
   "source": [
    "## Phân tích shares"
   ]
  },
  {
   "cell_type": "markdown",
   "metadata": {},
   "source": [
    "#### Đọc file data_ready.csv"
   ]
  },
  {
   "cell_type": "code",
   "execution_count": 1,
   "metadata": {},
   "outputs": [],
   "source": [
    "import pandas as pd\n",
    "import matplotlib.pyplot as plt\n",
    "import numpy as np"
   ]
  },
  {
   "cell_type": "code",
   "execution_count": 2,
   "metadata": {},
   "outputs": [],
   "source": [
    "df = pd.read_csv('C:/Users/Admin/aim/project_analysis_data_facebook/data/data_ready.csv')"
   ]
  },
  {
   "cell_type": "code",
   "execution_count": 3,
   "metadata": {},
   "outputs": [
    {
     "data": {
      "text/html": [
       "<div>\n",
       "<style scoped>\n",
       "    .dataframe tbody tr th:only-of-type {\n",
       "        vertical-align: middle;\n",
       "    }\n",
       "\n",
       "    .dataframe tbody tr th {\n",
       "        vertical-align: top;\n",
       "    }\n",
       "\n",
       "    .dataframe thead th {\n",
       "        text-align: right;\n",
       "    }\n",
       "</style>\n",
       "<table border=\"1\" class=\"dataframe\">\n",
       "  <thead>\n",
       "    <tr style=\"text-align: right;\">\n",
       "      <th></th>\n",
       "      <th>post_id</th>\n",
       "      <th>post_text</th>\n",
       "      <th>comments</th>\n",
       "      <th>comments_full</th>\n",
       "      <th>shares</th>\n",
       "      <th>reaction_count</th>\n",
       "      <th>thích</th>\n",
       "      <th>yêu thích</th>\n",
       "      <th>thương thương</th>\n",
       "      <th>haha</th>\n",
       "      <th>wow</th>\n",
       "      <th>buồn</th>\n",
       "      <th>phẫn nộ</th>\n",
       "      <th>hour</th>\n",
       "      <th>date</th>\n",
       "      <th>day</th>\n",
       "    </tr>\n",
       "  </thead>\n",
       "  <tbody>\n",
       "    <tr>\n",
       "      <th>0</th>\n",
       "      <td>8.992690e+14</td>\n",
       "      <td>🔴🗣️ Emile Heskey is the latest to tell the tal...</td>\n",
       "      <td>16</td>\n",
       "      <td>[{'comment_id': '1186163892166613', 'comment_u...</td>\n",
       "      <td>101</td>\n",
       "      <td>1175</td>\n",
       "      <td>982</td>\n",
       "      <td>183</td>\n",
       "      <td>10</td>\n",
       "      <td>0.0</td>\n",
       "      <td>0.0</td>\n",
       "      <td>0.0</td>\n",
       "      <td>0.0</td>\n",
       "      <td>0</td>\n",
       "      <td>11/21/2023</td>\n",
       "      <td>Tuesday</td>\n",
       "    </tr>\n",
       "    <tr>\n",
       "      <th>1</th>\n",
       "      <td>8.992110e+14</td>\n",
       "      <td>Back-to-back PFA Premier League Fans’ Player o...</td>\n",
       "      <td>83</td>\n",
       "      <td>[{'comment_id': '277210241476921', 'comment_ur...</td>\n",
       "      <td>31</td>\n",
       "      <td>4594</td>\n",
       "      <td>3638</td>\n",
       "      <td>902</td>\n",
       "      <td>49</td>\n",
       "      <td>1.0</td>\n",
       "      <td>4.0</td>\n",
       "      <td>0.0</td>\n",
       "      <td>0.0</td>\n",
       "      <td>22</td>\n",
       "      <td>11/20/2023</td>\n",
       "      <td>Monday</td>\n",
       "    </tr>\n",
       "    <tr>\n",
       "      <th>2</th>\n",
       "      <td>8.990810e+14</td>\n",
       "      <td>Ryan's first goal in Red 😍\\n\\nA look back at o...</td>\n",
       "      <td>49</td>\n",
       "      <td>[{'comment_id': '388506910181825', 'comment_ur...</td>\n",
       "      <td>53</td>\n",
       "      <td>5157</td>\n",
       "      <td>4072</td>\n",
       "      <td>1022</td>\n",
       "      <td>55</td>\n",
       "      <td>3.0</td>\n",
       "      <td>4.0</td>\n",
       "      <td>1.0</td>\n",
       "      <td>0.0</td>\n",
       "      <td>21</td>\n",
       "      <td>11/20/2023</td>\n",
       "      <td>Monday</td>\n",
       "    </tr>\n",
       "    <tr>\n",
       "      <th>3</th>\n",
       "      <td>8.991520e+14</td>\n",
       "      <td>Well in, Robbo 👏 #Euro2024 🔜\\n\\nVâng, Robbo 👏 ...</td>\n",
       "      <td>150</td>\n",
       "      <td>[{'comment_id': '314996431472511', 'comment_ur...</td>\n",
       "      <td>61</td>\n",
       "      <td>16019</td>\n",
       "      <td>12735</td>\n",
       "      <td>3112</td>\n",
       "      <td>146</td>\n",
       "      <td>19.0</td>\n",
       "      <td>6.0</td>\n",
       "      <td>1.0</td>\n",
       "      <td>0.0</td>\n",
       "      <td>20</td>\n",
       "      <td>11/20/2023</td>\n",
       "      <td>Monday</td>\n",
       "    </tr>\n",
       "    <tr>\n",
       "      <th>4</th>\n",
       "      <td>8.991290e+14</td>\n",
       "      <td>Two years ago today... Diogo 😲\\n\\nNgày này hai...</td>\n",
       "      <td>211</td>\n",
       "      <td>[{'comment_id': '1028198778438522', 'comment_u...</td>\n",
       "      <td>211</td>\n",
       "      <td>14403</td>\n",
       "      <td>11699</td>\n",
       "      <td>2506</td>\n",
       "      <td>125</td>\n",
       "      <td>45.0</td>\n",
       "      <td>26.0</td>\n",
       "      <td>1.0</td>\n",
       "      <td>1.0</td>\n",
       "      <td>19</td>\n",
       "      <td>11/20/2023</td>\n",
       "      <td>Monday</td>\n",
       "    </tr>\n",
       "    <tr>\n",
       "      <th>...</th>\n",
       "      <td>...</td>\n",
       "      <td>...</td>\n",
       "      <td>...</td>\n",
       "      <td>...</td>\n",
       "      <td>...</td>\n",
       "      <td>...</td>\n",
       "      <td>...</td>\n",
       "      <td>...</td>\n",
       "      <td>...</td>\n",
       "      <td>...</td>\n",
       "      <td>...</td>\n",
       "      <td>...</td>\n",
       "      <td>...</td>\n",
       "      <td>...</td>\n",
       "      <td>...</td>\n",
       "      <td>...</td>\n",
       "    </tr>\n",
       "    <tr>\n",
       "      <th>93</th>\n",
       "      <td>8.948540e+14</td>\n",
       "      <td>\"I really thank him because in this period he ...</td>\n",
       "      <td>97</td>\n",
       "      <td>[{'comment_id': '1120275918934925', 'comment_u...</td>\n",
       "      <td>43</td>\n",
       "      <td>13139</td>\n",
       "      <td>11518</td>\n",
       "      <td>1523</td>\n",
       "      <td>77</td>\n",
       "      <td>9.0</td>\n",
       "      <td>7.0</td>\n",
       "      <td>2.0</td>\n",
       "      <td>3.0</td>\n",
       "      <td>17</td>\n",
       "      <td>11/13/2023</td>\n",
       "      <td>Monday</td>\n",
       "    </tr>\n",
       "    <tr>\n",
       "      <th>94</th>\n",
       "      <td>8.948430e+14</td>\n",
       "      <td>Jürgen Klopp confirmed Joe Gomez and Ibrahima ...</td>\n",
       "      <td>114</td>\n",
       "      <td>[{'comment_id': '707770537958734', 'comment_ur...</td>\n",
       "      <td>34</td>\n",
       "      <td>8853</td>\n",
       "      <td>7779</td>\n",
       "      <td>934</td>\n",
       "      <td>85</td>\n",
       "      <td>3.0</td>\n",
       "      <td>9.0</td>\n",
       "      <td>39.0</td>\n",
       "      <td>4.0</td>\n",
       "      <td>16</td>\n",
       "      <td>11/13/2023</td>\n",
       "      <td>Monday</td>\n",
       "    </tr>\n",
       "    <tr>\n",
       "      <th>95</th>\n",
       "      <td>8.948350e+14</td>\n",
       "      <td>Anfield remembers.\\n\\nAnfield nhớ.</td>\n",
       "      <td>149</td>\n",
       "      <td>[{'comment_id': '7303758222967701', 'comment_u...</td>\n",
       "      <td>309</td>\n",
       "      <td>16050</td>\n",
       "      <td>13364</td>\n",
       "      <td>2481</td>\n",
       "      <td>174</td>\n",
       "      <td>8.0</td>\n",
       "      <td>13.0</td>\n",
       "      <td>7.0</td>\n",
       "      <td>3.0</td>\n",
       "      <td>16</td>\n",
       "      <td>11/13/2023</td>\n",
       "      <td>Monday</td>\n",
       "    </tr>\n",
       "    <tr>\n",
       "      <th>96</th>\n",
       "      <td>8.944540e+14</td>\n",
       "      <td>Good morning 😁🔴\\n\\nChào buổi sáng 😁🔴</td>\n",
       "      <td>417</td>\n",
       "      <td>[{'comment_id': '1483340398900267', 'comment_u...</td>\n",
       "      <td>124</td>\n",
       "      <td>34107</td>\n",
       "      <td>26432</td>\n",
       "      <td>7266</td>\n",
       "      <td>385</td>\n",
       "      <td>15.0</td>\n",
       "      <td>6.0</td>\n",
       "      <td>2.0</td>\n",
       "      <td>1.0</td>\n",
       "      <td>15</td>\n",
       "      <td>11/13/2023</td>\n",
       "      <td>Monday</td>\n",
       "    </tr>\n",
       "    <tr>\n",
       "      <th>97</th>\n",
       "      <td>8.955110e+14</td>\n",
       "      <td>Big Virg against Brentford 🔝\\n\\nBig Virg chống...</td>\n",
       "      <td>631</td>\n",
       "      <td>[{'comment_id': '304499032539488', 'comment_ur...</td>\n",
       "      <td>727</td>\n",
       "      <td>46476</td>\n",
       "      <td>39460</td>\n",
       "      <td>6610</td>\n",
       "      <td>353</td>\n",
       "      <td>12.0</td>\n",
       "      <td>38.0</td>\n",
       "      <td>1.0</td>\n",
       "      <td>2.0</td>\n",
       "      <td>18</td>\n",
       "      <td>11/14/2023</td>\n",
       "      <td>Tuesday</td>\n",
       "    </tr>\n",
       "  </tbody>\n",
       "</table>\n",
       "<p>98 rows × 16 columns</p>\n",
       "</div>"
      ],
      "text/plain": [
       "         post_id                                          post_text  comments  \\\n",
       "0   8.992690e+14  🔴🗣️ Emile Heskey is the latest to tell the tal...        16   \n",
       "1   8.992110e+14  Back-to-back PFA Premier League Fans’ Player o...        83   \n",
       "2   8.990810e+14  Ryan's first goal in Red 😍\\n\\nA look back at o...        49   \n",
       "3   8.991520e+14  Well in, Robbo 👏 #Euro2024 🔜\\n\\nVâng, Robbo 👏 ...       150   \n",
       "4   8.991290e+14  Two years ago today... Diogo 😲\\n\\nNgày này hai...       211   \n",
       "..           ...                                                ...       ...   \n",
       "93  8.948540e+14  \"I really thank him because in this period he ...        97   \n",
       "94  8.948430e+14  Jürgen Klopp confirmed Joe Gomez and Ibrahima ...       114   \n",
       "95  8.948350e+14                 Anfield remembers.\\n\\nAnfield nhớ.       149   \n",
       "96  8.944540e+14               Good morning 😁🔴\\n\\nChào buổi sáng 😁🔴       417   \n",
       "97  8.955110e+14  Big Virg against Brentford 🔝\\n\\nBig Virg chống...       631   \n",
       "\n",
       "                                        comments_full  shares  reaction_count  \\\n",
       "0   [{'comment_id': '1186163892166613', 'comment_u...     101            1175   \n",
       "1   [{'comment_id': '277210241476921', 'comment_ur...      31            4594   \n",
       "2   [{'comment_id': '388506910181825', 'comment_ur...      53            5157   \n",
       "3   [{'comment_id': '314996431472511', 'comment_ur...      61           16019   \n",
       "4   [{'comment_id': '1028198778438522', 'comment_u...     211           14403   \n",
       "..                                                ...     ...             ...   \n",
       "93  [{'comment_id': '1120275918934925', 'comment_u...      43           13139   \n",
       "94  [{'comment_id': '707770537958734', 'comment_ur...      34            8853   \n",
       "95  [{'comment_id': '7303758222967701', 'comment_u...     309           16050   \n",
       "96  [{'comment_id': '1483340398900267', 'comment_u...     124           34107   \n",
       "97  [{'comment_id': '304499032539488', 'comment_ur...     727           46476   \n",
       "\n",
       "    thích  yêu thích  thương thương  haha   wow  buồn  phẫn nộ  hour  \\\n",
       "0     982        183             10   0.0   0.0   0.0      0.0     0   \n",
       "1    3638        902             49   1.0   4.0   0.0      0.0    22   \n",
       "2    4072       1022             55   3.0   4.0   1.0      0.0    21   \n",
       "3   12735       3112            146  19.0   6.0   1.0      0.0    20   \n",
       "4   11699       2506            125  45.0  26.0   1.0      1.0    19   \n",
       "..    ...        ...            ...   ...   ...   ...      ...   ...   \n",
       "93  11518       1523             77   9.0   7.0   2.0      3.0    17   \n",
       "94   7779        934             85   3.0   9.0  39.0      4.0    16   \n",
       "95  13364       2481            174   8.0  13.0   7.0      3.0    16   \n",
       "96  26432       7266            385  15.0   6.0   2.0      1.0    15   \n",
       "97  39460       6610            353  12.0  38.0   1.0      2.0    18   \n",
       "\n",
       "          date      day  \n",
       "0   11/21/2023  Tuesday  \n",
       "1   11/20/2023   Monday  \n",
       "2   11/20/2023   Monday  \n",
       "3   11/20/2023   Monday  \n",
       "4   11/20/2023   Monday  \n",
       "..         ...      ...  \n",
       "93  11/13/2023   Monday  \n",
       "94  11/13/2023   Monday  \n",
       "95  11/13/2023   Monday  \n",
       "96  11/13/2023   Monday  \n",
       "97  11/14/2023  Tuesday  \n",
       "\n",
       "[98 rows x 16 columns]"
      ]
     },
     "execution_count": 3,
     "metadata": {},
     "output_type": "execute_result"
    }
   ],
   "source": [
    "df"
   ]
  },
  {
   "cell_type": "markdown",
   "metadata": {},
   "source": [
    "#### Thêm cột Index"
   ]
  },
  {
   "cell_type": "code",
   "execution_count": 4,
   "metadata": {},
   "outputs": [],
   "source": [
    "df = df.reset_index(inplace = False)\n",
    "df[\"index\"] = df[\"index\"] + 1"
   ]
  },
  {
   "cell_type": "code",
   "execution_count": 5,
   "metadata": {},
   "outputs": [
    {
     "data": {
      "text/html": [
       "<div>\n",
       "<style scoped>\n",
       "    .dataframe tbody tr th:only-of-type {\n",
       "        vertical-align: middle;\n",
       "    }\n",
       "\n",
       "    .dataframe tbody tr th {\n",
       "        vertical-align: top;\n",
       "    }\n",
       "\n",
       "    .dataframe thead th {\n",
       "        text-align: right;\n",
       "    }\n",
       "</style>\n",
       "<table border=\"1\" class=\"dataframe\">\n",
       "  <thead>\n",
       "    <tr style=\"text-align: right;\">\n",
       "      <th></th>\n",
       "      <th>index</th>\n",
       "      <th>post_id</th>\n",
       "      <th>post_text</th>\n",
       "      <th>comments</th>\n",
       "      <th>comments_full</th>\n",
       "      <th>shares</th>\n",
       "      <th>reaction_count</th>\n",
       "      <th>thích</th>\n",
       "      <th>yêu thích</th>\n",
       "      <th>thương thương</th>\n",
       "      <th>haha</th>\n",
       "      <th>wow</th>\n",
       "      <th>buồn</th>\n",
       "      <th>phẫn nộ</th>\n",
       "      <th>hour</th>\n",
       "      <th>date</th>\n",
       "      <th>day</th>\n",
       "    </tr>\n",
       "  </thead>\n",
       "  <tbody>\n",
       "    <tr>\n",
       "      <th>0</th>\n",
       "      <td>1</td>\n",
       "      <td>8.992690e+14</td>\n",
       "      <td>🔴🗣️ Emile Heskey is the latest to tell the tal...</td>\n",
       "      <td>16</td>\n",
       "      <td>[{'comment_id': '1186163892166613', 'comment_u...</td>\n",
       "      <td>101</td>\n",
       "      <td>1175</td>\n",
       "      <td>982</td>\n",
       "      <td>183</td>\n",
       "      <td>10</td>\n",
       "      <td>0.0</td>\n",
       "      <td>0.0</td>\n",
       "      <td>0.0</td>\n",
       "      <td>0.0</td>\n",
       "      <td>0</td>\n",
       "      <td>11/21/2023</td>\n",
       "      <td>Tuesday</td>\n",
       "    </tr>\n",
       "    <tr>\n",
       "      <th>1</th>\n",
       "      <td>2</td>\n",
       "      <td>8.992110e+14</td>\n",
       "      <td>Back-to-back PFA Premier League Fans’ Player o...</td>\n",
       "      <td>83</td>\n",
       "      <td>[{'comment_id': '277210241476921', 'comment_ur...</td>\n",
       "      <td>31</td>\n",
       "      <td>4594</td>\n",
       "      <td>3638</td>\n",
       "      <td>902</td>\n",
       "      <td>49</td>\n",
       "      <td>1.0</td>\n",
       "      <td>4.0</td>\n",
       "      <td>0.0</td>\n",
       "      <td>0.0</td>\n",
       "      <td>22</td>\n",
       "      <td>11/20/2023</td>\n",
       "      <td>Monday</td>\n",
       "    </tr>\n",
       "    <tr>\n",
       "      <th>2</th>\n",
       "      <td>3</td>\n",
       "      <td>8.990810e+14</td>\n",
       "      <td>Ryan's first goal in Red 😍\\n\\nA look back at o...</td>\n",
       "      <td>49</td>\n",
       "      <td>[{'comment_id': '388506910181825', 'comment_ur...</td>\n",
       "      <td>53</td>\n",
       "      <td>5157</td>\n",
       "      <td>4072</td>\n",
       "      <td>1022</td>\n",
       "      <td>55</td>\n",
       "      <td>3.0</td>\n",
       "      <td>4.0</td>\n",
       "      <td>1.0</td>\n",
       "      <td>0.0</td>\n",
       "      <td>21</td>\n",
       "      <td>11/20/2023</td>\n",
       "      <td>Monday</td>\n",
       "    </tr>\n",
       "    <tr>\n",
       "      <th>3</th>\n",
       "      <td>4</td>\n",
       "      <td>8.991520e+14</td>\n",
       "      <td>Well in, Robbo 👏 #Euro2024 🔜\\n\\nVâng, Robbo 👏 ...</td>\n",
       "      <td>150</td>\n",
       "      <td>[{'comment_id': '314996431472511', 'comment_ur...</td>\n",
       "      <td>61</td>\n",
       "      <td>16019</td>\n",
       "      <td>12735</td>\n",
       "      <td>3112</td>\n",
       "      <td>146</td>\n",
       "      <td>19.0</td>\n",
       "      <td>6.0</td>\n",
       "      <td>1.0</td>\n",
       "      <td>0.0</td>\n",
       "      <td>20</td>\n",
       "      <td>11/20/2023</td>\n",
       "      <td>Monday</td>\n",
       "    </tr>\n",
       "    <tr>\n",
       "      <th>4</th>\n",
       "      <td>5</td>\n",
       "      <td>8.991290e+14</td>\n",
       "      <td>Two years ago today... Diogo 😲\\n\\nNgày này hai...</td>\n",
       "      <td>211</td>\n",
       "      <td>[{'comment_id': '1028198778438522', 'comment_u...</td>\n",
       "      <td>211</td>\n",
       "      <td>14403</td>\n",
       "      <td>11699</td>\n",
       "      <td>2506</td>\n",
       "      <td>125</td>\n",
       "      <td>45.0</td>\n",
       "      <td>26.0</td>\n",
       "      <td>1.0</td>\n",
       "      <td>1.0</td>\n",
       "      <td>19</td>\n",
       "      <td>11/20/2023</td>\n",
       "      <td>Monday</td>\n",
       "    </tr>\n",
       "    <tr>\n",
       "      <th>...</th>\n",
       "      <td>...</td>\n",
       "      <td>...</td>\n",
       "      <td>...</td>\n",
       "      <td>...</td>\n",
       "      <td>...</td>\n",
       "      <td>...</td>\n",
       "      <td>...</td>\n",
       "      <td>...</td>\n",
       "      <td>...</td>\n",
       "      <td>...</td>\n",
       "      <td>...</td>\n",
       "      <td>...</td>\n",
       "      <td>...</td>\n",
       "      <td>...</td>\n",
       "      <td>...</td>\n",
       "      <td>...</td>\n",
       "      <td>...</td>\n",
       "    </tr>\n",
       "    <tr>\n",
       "      <th>93</th>\n",
       "      <td>94</td>\n",
       "      <td>8.948540e+14</td>\n",
       "      <td>\"I really thank him because in this period he ...</td>\n",
       "      <td>97</td>\n",
       "      <td>[{'comment_id': '1120275918934925', 'comment_u...</td>\n",
       "      <td>43</td>\n",
       "      <td>13139</td>\n",
       "      <td>11518</td>\n",
       "      <td>1523</td>\n",
       "      <td>77</td>\n",
       "      <td>9.0</td>\n",
       "      <td>7.0</td>\n",
       "      <td>2.0</td>\n",
       "      <td>3.0</td>\n",
       "      <td>17</td>\n",
       "      <td>11/13/2023</td>\n",
       "      <td>Monday</td>\n",
       "    </tr>\n",
       "    <tr>\n",
       "      <th>94</th>\n",
       "      <td>95</td>\n",
       "      <td>8.948430e+14</td>\n",
       "      <td>Jürgen Klopp confirmed Joe Gomez and Ibrahima ...</td>\n",
       "      <td>114</td>\n",
       "      <td>[{'comment_id': '707770537958734', 'comment_ur...</td>\n",
       "      <td>34</td>\n",
       "      <td>8853</td>\n",
       "      <td>7779</td>\n",
       "      <td>934</td>\n",
       "      <td>85</td>\n",
       "      <td>3.0</td>\n",
       "      <td>9.0</td>\n",
       "      <td>39.0</td>\n",
       "      <td>4.0</td>\n",
       "      <td>16</td>\n",
       "      <td>11/13/2023</td>\n",
       "      <td>Monday</td>\n",
       "    </tr>\n",
       "    <tr>\n",
       "      <th>95</th>\n",
       "      <td>96</td>\n",
       "      <td>8.948350e+14</td>\n",
       "      <td>Anfield remembers.\\n\\nAnfield nhớ.</td>\n",
       "      <td>149</td>\n",
       "      <td>[{'comment_id': '7303758222967701', 'comment_u...</td>\n",
       "      <td>309</td>\n",
       "      <td>16050</td>\n",
       "      <td>13364</td>\n",
       "      <td>2481</td>\n",
       "      <td>174</td>\n",
       "      <td>8.0</td>\n",
       "      <td>13.0</td>\n",
       "      <td>7.0</td>\n",
       "      <td>3.0</td>\n",
       "      <td>16</td>\n",
       "      <td>11/13/2023</td>\n",
       "      <td>Monday</td>\n",
       "    </tr>\n",
       "    <tr>\n",
       "      <th>96</th>\n",
       "      <td>97</td>\n",
       "      <td>8.944540e+14</td>\n",
       "      <td>Good morning 😁🔴\\n\\nChào buổi sáng 😁🔴</td>\n",
       "      <td>417</td>\n",
       "      <td>[{'comment_id': '1483340398900267', 'comment_u...</td>\n",
       "      <td>124</td>\n",
       "      <td>34107</td>\n",
       "      <td>26432</td>\n",
       "      <td>7266</td>\n",
       "      <td>385</td>\n",
       "      <td>15.0</td>\n",
       "      <td>6.0</td>\n",
       "      <td>2.0</td>\n",
       "      <td>1.0</td>\n",
       "      <td>15</td>\n",
       "      <td>11/13/2023</td>\n",
       "      <td>Monday</td>\n",
       "    </tr>\n",
       "    <tr>\n",
       "      <th>97</th>\n",
       "      <td>98</td>\n",
       "      <td>8.955110e+14</td>\n",
       "      <td>Big Virg against Brentford 🔝\\n\\nBig Virg chống...</td>\n",
       "      <td>631</td>\n",
       "      <td>[{'comment_id': '304499032539488', 'comment_ur...</td>\n",
       "      <td>727</td>\n",
       "      <td>46476</td>\n",
       "      <td>39460</td>\n",
       "      <td>6610</td>\n",
       "      <td>353</td>\n",
       "      <td>12.0</td>\n",
       "      <td>38.0</td>\n",
       "      <td>1.0</td>\n",
       "      <td>2.0</td>\n",
       "      <td>18</td>\n",
       "      <td>11/14/2023</td>\n",
       "      <td>Tuesday</td>\n",
       "    </tr>\n",
       "  </tbody>\n",
       "</table>\n",
       "<p>98 rows × 17 columns</p>\n",
       "</div>"
      ],
      "text/plain": [
       "    index       post_id                                          post_text  \\\n",
       "0       1  8.992690e+14  🔴🗣️ Emile Heskey is the latest to tell the tal...   \n",
       "1       2  8.992110e+14  Back-to-back PFA Premier League Fans’ Player o...   \n",
       "2       3  8.990810e+14  Ryan's first goal in Red 😍\\n\\nA look back at o...   \n",
       "3       4  8.991520e+14  Well in, Robbo 👏 #Euro2024 🔜\\n\\nVâng, Robbo 👏 ...   \n",
       "4       5  8.991290e+14  Two years ago today... Diogo 😲\\n\\nNgày này hai...   \n",
       "..    ...           ...                                                ...   \n",
       "93     94  8.948540e+14  \"I really thank him because in this period he ...   \n",
       "94     95  8.948430e+14  Jürgen Klopp confirmed Joe Gomez and Ibrahima ...   \n",
       "95     96  8.948350e+14                 Anfield remembers.\\n\\nAnfield nhớ.   \n",
       "96     97  8.944540e+14               Good morning 😁🔴\\n\\nChào buổi sáng 😁🔴   \n",
       "97     98  8.955110e+14  Big Virg against Brentford 🔝\\n\\nBig Virg chống...   \n",
       "\n",
       "    comments                                      comments_full  shares  \\\n",
       "0         16  [{'comment_id': '1186163892166613', 'comment_u...     101   \n",
       "1         83  [{'comment_id': '277210241476921', 'comment_ur...      31   \n",
       "2         49  [{'comment_id': '388506910181825', 'comment_ur...      53   \n",
       "3        150  [{'comment_id': '314996431472511', 'comment_ur...      61   \n",
       "4        211  [{'comment_id': '1028198778438522', 'comment_u...     211   \n",
       "..       ...                                                ...     ...   \n",
       "93        97  [{'comment_id': '1120275918934925', 'comment_u...      43   \n",
       "94       114  [{'comment_id': '707770537958734', 'comment_ur...      34   \n",
       "95       149  [{'comment_id': '7303758222967701', 'comment_u...     309   \n",
       "96       417  [{'comment_id': '1483340398900267', 'comment_u...     124   \n",
       "97       631  [{'comment_id': '304499032539488', 'comment_ur...     727   \n",
       "\n",
       "    reaction_count  thích  yêu thích  thương thương  haha   wow  buồn  \\\n",
       "0             1175    982        183             10   0.0   0.0   0.0   \n",
       "1             4594   3638        902             49   1.0   4.0   0.0   \n",
       "2             5157   4072       1022             55   3.0   4.0   1.0   \n",
       "3            16019  12735       3112            146  19.0   6.0   1.0   \n",
       "4            14403  11699       2506            125  45.0  26.0   1.0   \n",
       "..             ...    ...        ...            ...   ...   ...   ...   \n",
       "93           13139  11518       1523             77   9.0   7.0   2.0   \n",
       "94            8853   7779        934             85   3.0   9.0  39.0   \n",
       "95           16050  13364       2481            174   8.0  13.0   7.0   \n",
       "96           34107  26432       7266            385  15.0   6.0   2.0   \n",
       "97           46476  39460       6610            353  12.0  38.0   1.0   \n",
       "\n",
       "    phẫn nộ  hour        date      day  \n",
       "0       0.0     0  11/21/2023  Tuesday  \n",
       "1       0.0    22  11/20/2023   Monday  \n",
       "2       0.0    21  11/20/2023   Monday  \n",
       "3       0.0    20  11/20/2023   Monday  \n",
       "4       1.0    19  11/20/2023   Monday  \n",
       "..      ...   ...         ...      ...  \n",
       "93      3.0    17  11/13/2023   Monday  \n",
       "94      4.0    16  11/13/2023   Monday  \n",
       "95      3.0    16  11/13/2023   Monday  \n",
       "96      1.0    15  11/13/2023   Monday  \n",
       "97      2.0    18  11/14/2023  Tuesday  \n",
       "\n",
       "[98 rows x 17 columns]"
      ]
     },
     "execution_count": 5,
     "metadata": {},
     "output_type": "execute_result"
    }
   ],
   "source": [
    "df"
   ]
  },
  {
   "cell_type": "markdown",
   "metadata": {},
   "source": [
    "#### Biến đôngj share qua từng bài đăng"
   ]
  },
  {
   "cell_type": "code",
   "execution_count": 6,
   "metadata": {},
   "outputs": [
    {
     "data": {
      "image/png": "[encoded data removed]",
      "text/plain": [
       "<Figure size 640x480 with 1 Axes>"
      ]
     },
     "metadata": {},
     "output_type": "display_data"
    }
   ],
   "source": [
    "df.plot(kind = \"line\", x = \"index\", y = \"shares\");"
   ]
  },
  {
   "cell_type": "code",
   "execution_count": 7,
   "metadata": {},
   "outputs": [
    {
     "data": {
      "image/png": "[encoded data removed]",
      "text/plain": [
       "<Figure size 5000x2000 with 1 Axes>"
      ]
     },
     "metadata": {},
     "output_type": "display_data"
    }
   ],
   "source": [
    "df.plot(kind = \"bar\", x = \"index\", y = \"shares\", figsize = (50, 20));"
   ]
  },
  {
   "cell_type": "markdown",
   "metadata": {},
   "source": [
    "#### Tổng số lượt share"
   ]
  },
  {
   "cell_type": "code",
   "execution_count": 8,
   "metadata": {},
   "outputs": [
    {
     "data": {
      "text/plain": [
       "22025"
      ]
     },
     "execution_count": 8,
     "metadata": {},
     "output_type": "execute_result"
    }
   ],
   "source": [
    "sum(df.shares)"
   ]
  },
  {
   "cell_type": "markdown",
   "metadata": {},
   "source": [
    "#### Số lượt share trung bình trong 1 bài "
   ]
  },
  {
   "cell_type": "code",
   "execution_count": 9,
   "metadata": {},
   "outputs": [
    {
     "data": {
      "text/plain": [
       "224.74489795918367"
      ]
     },
     "execution_count": 9,
     "metadata": {},
     "output_type": "execute_result"
    }
   ],
   "source": [
    "df.shares.mean()"
   ]
  },
  {
   "cell_type": "markdown",
   "metadata": {},
   "source": [
    "#### Lượt share biến động trong khoảng"
   ]
  },
  {
   "cell_type": "code",
   "execution_count": 10,
   "metadata": {},
   "outputs": [
    {
     "data": {
      "text/plain": [
       "104.0"
      ]
     },
     "execution_count": 10,
     "metadata": {},
     "output_type": "execute_result"
    }
   ],
   "source": [
    "df.shares.median()"
   ]
  },
  {
   "cell_type": "markdown",
   "metadata": {},
   "source": [
    "#### Bài đăng có nhiều lượt share nhất"
   ]
  },
  {
   "cell_type": "code",
   "execution_count": 11,
   "metadata": {},
   "outputs": [
    {
     "data": {
      "text/plain": [
       "Index([81], dtype='int64')"
      ]
     },
     "execution_count": 11,
     "metadata": {},
     "output_type": "execute_result"
    }
   ],
   "source": [
    "df.index[df['shares'] == max(df.shares)]"
   ]
  },
  {
   "cell_type": "code",
   "execution_count": 12,
   "metadata": {},
   "outputs": [
    {
     "data": {
      "text/plain": [
       "index                                                            82\n",
       "post_id                                           895125000000000.0\n",
       "post_text         Are you dreaming of a Red Christmas? 😴✨\\n\\nSho...\n",
       "comments                                                        753\n",
       "comments_full     [{'comment_id': '329595236433904', 'comment_ur...\n",
       "shares                                                         3087\n",
       "reaction_count                                                10910\n",
       "thích                                                          7445\n",
       "yêu thích                                                      3258\n",
       "thương thương                                                   105\n",
       "haha                                                           90.0\n",
       "wow                                                             8.0\n",
       "buồn                                                            0.0\n",
       "phẫn nộ                                                         4.0\n",
       "hour                                                             15\n",
       "date                                                     11/14/2023\n",
       "day                                                         Tuesday\n",
       "Name: 81, dtype: object"
      ]
     },
     "execution_count": 12,
     "metadata": {},
     "output_type": "execute_result"
    }
   ],
   "source": [
    "df.iloc[81]"
   ]
  },
  {
   "cell_type": "markdown",
   "metadata": {},
   "source": [
    "#### Bài đăng có số lượt share ít nhất"
   ]
  },
  {
   "cell_type": "code",
   "execution_count": 13,
   "metadata": {},
   "outputs": [
    {
     "data": {
      "text/plain": [
       "Index([12], dtype='int64')"
      ]
     },
     "execution_count": 13,
     "metadata": {},
     "output_type": "execute_result"
    }
   ],
   "source": [
    "df.index[df['shares'] == min(df.shares)]"
   ]
  },
  {
   "cell_type": "code",
   "execution_count": 14,
   "metadata": {},
   "outputs": [
    {
     "data": {
      "text/plain": [
       "index                                                            13\n",
       "post_id                                           898477000000000.0\n",
       "post_text         How well can you remember our 2023-24 season s...\n",
       "comments                                                         70\n",
       "comments_full     [{'comment_id': '260630993303805', 'comment_ur...\n",
       "shares                                                           19\n",
       "reaction_count                                                 5865\n",
       "thích                                                          4924\n",
       "yêu thích                                                       888\n",
       "thương thương                                                    48\n",
       "haha                                                            0.0\n",
       "wow                                                             4.0\n",
       "buồn                                                            0.0\n",
       "phẫn nộ                                                         1.0\n",
       "hour                                                              0\n",
       "date                                                     11/20/2023\n",
       "day                                                          Monday\n",
       "Name: 12, dtype: object"
      ]
     },
     "execution_count": 14,
     "metadata": {},
     "output_type": "execute_result"
    }
   ],
   "source": [
    "df.iloc[12]"
   ]
  },
  {
   "cell_type": "markdown",
   "metadata": {},
   "source": [
    "#### Top 10 bài nhiều share nhất"
   ]
  },
  {
   "cell_type": "code",
   "execution_count": 16,
   "metadata": {},
   "outputs": [
    {
     "data": {
      "image/png": "[encoded data removed]",
      "text/plain": [
       "<Figure size 640x480 with 1 Axes>"
      ]
     },
     "metadata": {},
     "output_type": "display_data"
    }
   ],
   "source": [
    "top_share = df.sort_values(by = ['shares'], ascending = False).head(10)\n",
    "top_share_plt = top_share.plot(kind = \"bar\", x = \"index\", y = \"hour\")\n",
    "\n",
    "for b in top_share_plt.patches:\n",
    "    top_share_plt.annotate(str(b.get_height()), (b.get_x() + b.get_width() / 2., b.get_height()), ha='center', va='center', xytext=(0, 5), textcoords='offset points')\n",
    "\n",
    "plt.show()"
   ]
  },
  {
   "cell_type": "markdown",
   "metadata": {},
   "source": [
    "#### Nội dung của top các ngày đăng bài "
   ]
  },
  {
   "cell_type": "code",
   "execution_count": 17,
   "metadata": {},
   "outputs": [
    {
     "data": {
      "text/html": [
       "<div>\n",
       "<style scoped>\n",
       "    .dataframe tbody tr th:only-of-type {\n",
       "        vertical-align: middle;\n",
       "    }\n",
       "\n",
       "    .dataframe tbody tr th {\n",
       "        vertical-align: top;\n",
       "    }\n",
       "\n",
       "    .dataframe thead th {\n",
       "        text-align: right;\n",
       "    }\n",
       "</style>\n",
       "<table border=\"1\" class=\"dataframe\">\n",
       "  <thead>\n",
       "    <tr style=\"text-align: right;\">\n",
       "      <th></th>\n",
       "      <th>index</th>\n",
       "      <th>post_text</th>\n",
       "    </tr>\n",
       "  </thead>\n",
       "  <tbody>\n",
       "    <tr>\n",
       "      <th>81</th>\n",
       "      <td>82</td>\n",
       "      <td>Are you dreaming of a Red Christmas? 😴✨\\n\\nSho...</td>\n",
       "    </tr>\n",
       "    <tr>\n",
       "      <th>60</th>\n",
       "      <td>61</td>\n",
       "      <td>Goal involvements in 1️⃣5️⃣ consecutive Premie...</td>\n",
       "    </tr>\n",
       "    <tr>\n",
       "      <th>78</th>\n",
       "      <td>79</td>\n",
       "      <td>Look out, Santa 😅\\n\\nCoi chừng, ông già Noel 😅</td>\n",
       "    </tr>\n",
       "    <tr>\n",
       "      <th>49</th>\n",
       "      <td>50</td>\n",
       "      <td>⚽⚽⚽⚽\\n\\nFour goals for Mo in Egypt’s 6-0 win o...</td>\n",
       "    </tr>\n",
       "    <tr>\n",
       "      <th>46</th>\n",
       "      <td>47</td>\n",
       "      <td>Two goals from Lucho gave Colombia a 2-1 win o...</td>\n",
       "    </tr>\n",
       "    <tr>\n",
       "      <th>77</th>\n",
       "      <td>78</td>\n",
       "      <td>Big Virg against Brentford 🔝\\n\\nBig Virg chống...</td>\n",
       "    </tr>\n",
       "    <tr>\n",
       "      <th>97</th>\n",
       "      <td>98</td>\n",
       "      <td>Big Virg against Brentford 🔝\\n\\nBig Virg chống...</td>\n",
       "    </tr>\n",
       "    <tr>\n",
       "      <th>84</th>\n",
       "      <td>85</td>\n",
       "      <td>The boss enjoyed our goals scored on Sunday 💪\\...</td>\n",
       "    </tr>\n",
       "    <tr>\n",
       "      <th>87</th>\n",
       "      <td>88</td>\n",
       "      <td>Virg with a big clearance to keep a clean shee...</td>\n",
       "    </tr>\n",
       "    <tr>\n",
       "      <th>13</th>\n",
       "      <td>14</td>\n",
       "      <td>Two goals in two minutes for Szobo this aftern...</td>\n",
       "    </tr>\n",
       "  </tbody>\n",
       "</table>\n",
       "</div>"
      ],
      "text/plain": [
       "    index                                          post_text\n",
       "81     82  Are you dreaming of a Red Christmas? 😴✨\\n\\nSho...\n",
       "60     61  Goal involvements in 1️⃣5️⃣ consecutive Premie...\n",
       "78     79     Look out, Santa 😅\\n\\nCoi chừng, ông già Noel 😅\n",
       "49     50  ⚽⚽⚽⚽\\n\\nFour goals for Mo in Egypt’s 6-0 win o...\n",
       "46     47  Two goals from Lucho gave Colombia a 2-1 win o...\n",
       "77     78  Big Virg against Brentford 🔝\\n\\nBig Virg chống...\n",
       "97     98  Big Virg against Brentford 🔝\\n\\nBig Virg chống...\n",
       "84     85  The boss enjoyed our goals scored on Sunday 💪\\...\n",
       "87     88  Virg with a big clearance to keep a clean shee...\n",
       "13     14  Two goals in two minutes for Szobo this aftern..."
      ]
     },
     "execution_count": 17,
     "metadata": {},
     "output_type": "execute_result"
    }
   ],
   "source": [
    "df.sort_values(by = ['shares'], ascending = False).head(10)[[\"index\", \"post_text\"]]"
   ]
  },
  {
   "cell_type": "markdown",
   "metadata": {},
   "source": [
    "#### Ngày của 10 bài trong top share"
   ]
  },
  {
   "cell_type": "code",
   "execution_count": 18,
   "metadata": {},
   "outputs": [
    {
     "data": {
      "text/html": [
       "<div>\n",
       "<style scoped>\n",
       "    .dataframe tbody tr th:only-of-type {\n",
       "        vertical-align: middle;\n",
       "    }\n",
       "\n",
       "    .dataframe tbody tr th {\n",
       "        vertical-align: top;\n",
       "    }\n",
       "\n",
       "    .dataframe thead th {\n",
       "        text-align: right;\n",
       "    }\n",
       "</style>\n",
       "<table border=\"1\" class=\"dataframe\">\n",
       "  <thead>\n",
       "    <tr style=\"text-align: right;\">\n",
       "      <th></th>\n",
       "      <th>index</th>\n",
       "      <th>date</th>\n",
       "    </tr>\n",
       "  </thead>\n",
       "  <tbody>\n",
       "    <tr>\n",
       "      <th>81</th>\n",
       "      <td>82</td>\n",
       "      <td>11/14/2023</td>\n",
       "    </tr>\n",
       "    <tr>\n",
       "      <th>60</th>\n",
       "      <td>61</td>\n",
       "      <td>11/16/2023</td>\n",
       "    </tr>\n",
       "    <tr>\n",
       "      <th>78</th>\n",
       "      <td>79</td>\n",
       "      <td>11/14/2023</td>\n",
       "    </tr>\n",
       "    <tr>\n",
       "      <th>49</th>\n",
       "      <td>50</td>\n",
       "      <td>11/17/2023</td>\n",
       "    </tr>\n",
       "    <tr>\n",
       "      <th>46</th>\n",
       "      <td>47</td>\n",
       "      <td>11/17/2023</td>\n",
       "    </tr>\n",
       "    <tr>\n",
       "      <th>77</th>\n",
       "      <td>78</td>\n",
       "      <td>11/14/2023</td>\n",
       "    </tr>\n",
       "    <tr>\n",
       "      <th>97</th>\n",
       "      <td>98</td>\n",
       "      <td>11/14/2023</td>\n",
       "    </tr>\n",
       "    <tr>\n",
       "      <th>84</th>\n",
       "      <td>85</td>\n",
       "      <td>11/14/2023</td>\n",
       "    </tr>\n",
       "    <tr>\n",
       "      <th>87</th>\n",
       "      <td>88</td>\n",
       "      <td>11/13/2023</td>\n",
       "    </tr>\n",
       "    <tr>\n",
       "      <th>13</th>\n",
       "      <td>14</td>\n",
       "      <td>11/19/2023</td>\n",
       "    </tr>\n",
       "  </tbody>\n",
       "</table>\n",
       "</div>"
      ],
      "text/plain": [
       "    index        date\n",
       "81     82  11/14/2023\n",
       "60     61  11/16/2023\n",
       "78     79  11/14/2023\n",
       "49     50  11/17/2023\n",
       "46     47  11/17/2023\n",
       "77     78  11/14/2023\n",
       "97     98  11/14/2023\n",
       "84     85  11/14/2023\n",
       "87     88  11/13/2023\n",
       "13     14  11/19/2023"
      ]
     },
     "execution_count": 18,
     "metadata": {},
     "output_type": "execute_result"
    }
   ],
   "source": [
    "df.sort_values(by = ['shares'], ascending = False).head(10)[['index', 'date']]"
   ]
  },
  {
   "cell_type": "markdown",
   "metadata": {},
   "source": [
    "#### Quan hệ số lượt share và ngày đăng bài trong top 10 số lượt share lớn nhất"
   ]
  },
  {
   "cell_type": "code",
   "execution_count": 19,
   "metadata": {},
   "outputs": [
    {
     "data": {
      "image/png": "[encoded data removed]",
      "text/plain": [
       "<Figure size 640x480 with 1 Axes>"
      ]
     },
     "metadata": {},
     "output_type": "display_data"
    }
   ],
   "source": [
    "top_share = df.sort_values(by = ['shares'], ascending = False).head(10)\n",
    "top_share_date = top_share.sort_values(by = ['date'], ascending = True)\n",
    "top_share_date_plt = top_share_date.plot(kind = 'bar', x = 'date', y = 'shares')\n",
    "i = 0\n",
    "\n",
    "for b in top_share_date_plt.patches:\n",
    "    top_share_date_plt.annotate(\"(\" + str(top_share_date.iloc[i][\"index\"]) + \")\\n\" + str(b.get_height()), (b.get_x() + b.get_width() / 2., b.get_height()), ha='center', va='center', xytext=(0, 12), textcoords='offset points')\n",
    "    i += 1\n",
    "\n",
    "extra_space = 0.15\n",
    "plt.ylim(top=top_share_date[\"shares\"].max() * (1 + extra_space))\n",
    "\n",
    "plt.show()"
   ]
  }
 ],
 "metadata": {
  "kernelspec": {
   "display_name": "Python 3",
   "language": "python",
   "name": "python3"
  },
  "language_info": {
   "codemirror_mode": {
    "name": "ipython",
    "version": 3
   },
   "file_extension": ".py",
   "mimetype": "text/x-python",
   "name": "python",
   "nbconvert_exporter": "python",
   "pygments_lexer": "ipython3",
   "version": "3.9.0rc2"
  }
 },
 "nbformat": 4,
 "nbformat_minor": 2
}
